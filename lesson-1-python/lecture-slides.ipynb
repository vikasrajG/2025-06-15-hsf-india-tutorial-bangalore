{
 "cells": [
  {
   "cell_type": "markdown",
   "id": "fef3e0dc-ae5e-42c8-834d-2825492ba2ea",
   "metadata": {
    "editable": true,
    "slideshow": {
     "slide_type": "slide"
    },
    "tags": []
   },
   "source": [
    "# Lesson 1: The Python language"
   ]
  },
  {
   "cell_type": "markdown",
   "id": "9d010a04-dd04-42c1-adbf-1f8199289009",
   "metadata": {
    "editable": true,
    "slideshow": {
     "slide_type": ""
    },
    "tags": []
   },
   "source": [
    "<br><br>"
   ]
  },
  {
   "cell_type": "markdown",
   "id": "69405eb6-ab71-4fed-bbed-9c9e02922757",
   "metadata": {
    "editable": true,
    "slideshow": {
     "slide_type": "slide"
    },
    "tags": []
   },
   "source": [
    "## Before we begin: navigation in Jupyter"
   ]
  },
  {
   "cell_type": "markdown",
   "id": "d026a59b-7d8c-4ad0-bac0-81ada3d492cc",
   "metadata": {
    "editable": true,
    "slideshow": {
     "slide_type": ""
    },
    "tags": []
   },
   "source": [
    "<br>"
   ]
  },
  {
   "cell_type": "markdown",
   "id": "fbcc566a-3ea4-4691-b2d0-f864af7e3b7f",
   "metadata": {
    "editable": true,
    "slideshow": {
     "slide_type": "fragment"
    },
    "tags": []
   },
   "source": [
    "In each lesson directory, open the \"lecture-workbook.ipynb\" instead of these slides."
   ]
  },
  {
   "cell_type": "markdown",
   "id": "c5a3e9a2-8ad1-43b3-ac3d-3e37d8ad4923",
   "metadata": {
    "editable": true,
    "slideshow": {
     "slide_type": ""
    },
    "tags": []
   },
   "source": [
    "<br>"
   ]
  },
  {
   "cell_type": "markdown",
   "id": "7aa6edde-493f-4473-b904-42b671c297ab",
   "metadata": {
    "editable": true,
    "slideshow": {
     "slide_type": "fragment"
    },
    "tags": []
   },
   "source": [
    "When you see the notebook,\n",
    "\n",
    " 1. Click on a code cell to edit it.\n",
    " 2. Control-enter to run it.\n",
    " 3. Shift-enter to run it and move on to the next cell.\n",
    "\n",
    "But be sure to evaluate all code cells so that you're not missing any data."
   ]
  },
  {
   "cell_type": "markdown",
   "id": "f35a40d4-ab22-40f6-b9fe-efedfa85b3fa",
   "metadata": {
    "editable": true,
    "slideshow": {
     "slide_type": ""
    },
    "tags": []
   },
   "source": [
    "<br>"
   ]
  },
  {
   "cell_type": "markdown",
   "id": "630c463f-a166-4824-8c07-fdd27b427827",
   "metadata": {
    "editable": true,
    "slideshow": {
     "slide_type": "fragment"
    },
    "tags": []
   },
   "source": [
    "If you need to refresh your notebook's state, use the **Kernel → Restart Kernel and Run up to Selected Cell** menu item."
   ]
  },
  {
   "cell_type": "markdown",
   "id": "f18a6d8b-5e4f-4303-bdb8-6ea561ab93d9",
   "metadata": {
    "editable": true,
    "slideshow": {
     "slide_type": "slide"
    },
    "tags": []
   },
   "source": [
    "## Why Python?"
   ]
  },
  {
   "cell_type": "markdown",
   "id": "1539302a-eac0-4e17-b670-dc0775be7285",
   "metadata": {
    "editable": true,
    "slideshow": {
     "slide_type": "slide"
    },
    "tags": []
   },
   "source": [
    "In many ways of measuring it, Python is now the most popular programming language."
   ]
  },
  {
   "cell_type": "markdown",
   "id": "9d455a5b-ef72-4fe2-8d8d-d0299912bc6b",
   "metadata": {
    "editable": true,
    "slideshow": {
     "slide_type": ""
    },
    "tags": []
   },
   "source": [
    "<br>"
   ]
  },
  {
   "cell_type": "markdown",
   "id": "082b7529-7ca3-450f-8094-cf3de5aa9368",
   "metadata": {
    "editable": true,
    "slideshow": {
     "slide_type": ""
    },
    "tags": []
   },
   "source": [
    "<table width=\"85%\">\n",
    "    <tr style=\"background: white;\">\n",
    "        <td width=\"100%\"><img src=\"../img/python-rankings-tiobe-2022.png\" width=\"100%\"></td>\n",
    "        <td width=\"100%\"><img src=\"../img/python-rankings-pypl-2022.png\" width=\"100%\"></td>\n",
    "    </tr>\n",
    "    <tr style=\"background: white;\">\n",
    "        <td width=\"100%\"><img src=\"../img/python-rankings-stackoverflow-2022.png\" width=\"100%\"></td>\n",
    "        <td width=\"100%\"><img src=\"../img/python-rankings-githut-2022.png\" width=\"100%\"></td>\n",
    "    </tr>\n",
    "</table>"
   ]
  },
  {
   "cell_type": "markdown",
   "id": "3bbd7035-e39a-4a6d-a446-e621fa594918",
   "metadata": {
    "editable": true,
    "slideshow": {
     "slide_type": "slide"
    },
    "tags": []
   },
   "source": [
    "More importantly, it is the most widely used language for data analysis and machine learning."
   ]
  },
  {
   "cell_type": "markdown",
   "id": "f3c7daa6-13e8-45fa-89b0-1244ec1c3f18",
   "metadata": {
    "editable": true,
    "slideshow": {
     "slide_type": ""
    },
    "tags": []
   },
   "source": [
    "<br>"
   ]
  },
  {
   "cell_type": "markdown",
   "id": "218c865a-6d8d-45be-9ce6-7b119f17ef83",
   "metadata": {
    "editable": true,
    "slideshow": {
     "slide_type": ""
    },
    "tags": []
   },
   "source": [
    "<center>\n",
    "<img src=\"../img/analytics-by-language.svg\" width=\"65%\">\n",
    "</center>"
   ]
  },
  {
   "cell_type": "markdown",
   "id": "340f98fa-9ce5-4435-9625-82295706b1c5",
   "metadata": {
    "editable": true,
    "slideshow": {
     "slide_type": "slide"
    },
    "tags": []
   },
   "source": [
    "\"Popularity\" means more tools are available, more attention has been drawn to their shortcomings, and you can find more information about how to use them online."
   ]
  },
  {
   "cell_type": "markdown",
   "id": "019c860e-7bdd-4e71-b23d-d47d6453d815",
   "metadata": {
    "editable": true,
    "slideshow": {
     "slide_type": ""
    },
    "tags": []
   },
   "source": [
    "<br><br><br>"
   ]
  },
  {
   "cell_type": "markdown",
   "id": "071f7bdc-7058-4b2f-9ebd-a97ac41ca269",
   "metadata": {
    "editable": true,
    "slideshow": {
     "slide_type": "fragment"
    },
    "tags": []
   },
   "source": [
    "It also means that Python skills are transferable skills."
   ]
  },
  {
   "cell_type": "markdown",
   "id": "8efe6dd8-af72-4fdc-9fd0-2b4328698c04",
   "metadata": {
    "editable": true,
    "slideshow": {
     "slide_type": ""
    },
    "tags": []
   },
   "source": [
    "<br><br><br>"
   ]
  },
  {
   "cell_type": "markdown",
   "id": "2c3706a0-b8c0-4f13-bb64-f73a14f366e1",
   "metadata": {
    "editable": true,
    "slideshow": {
     "slide_type": "fragment"
    },
    "tags": []
   },
   "source": [
    "This first lesson is a tour (possibly review) of Python syntax, using physics data analysis as examples."
   ]
  },
  {
   "cell_type": "markdown",
   "id": "95cf1e2c-4a55-49be-ae97-00e72b378609",
   "metadata": {
    "editable": true,
    "slideshow": {
     "slide_type": "slide"
    },
    "tags": []
   },
   "source": [
    "## Tour of Python syntax"
   ]
  },
  {
   "cell_type": "markdown",
   "id": "fd56ac74-e06e-47b9-abb0-d7ee64b3c1f2",
   "metadata": {
    "editable": true,
    "slideshow": {
     "slide_type": "slide"
    },
    "tags": []
   },
   "source": [
    "### Using Python as a desk calculator"
   ]
  },
  {
   "cell_type": "markdown",
   "id": "090e3320-908b-4ec7-a1d7-3724775fd19e",
   "metadata": {
    "editable": true,
    "slideshow": {
     "slide_type": ""
    },
    "tags": []
   },
   "source": [
    "<br>"
   ]
  },
  {
   "cell_type": "code",
   "execution_count": null,
   "id": "6921070d-a891-4e96-981a-bcb30fea1ce5",
   "metadata": {
    "slideshow": {
     "slide_type": "fragment"
    },
    "tags": []
   },
   "outputs": [],
   "source": [
    "2 + 2"
   ]
  },
  {
   "cell_type": "markdown",
   "id": "0cf3f7c9-d3ff-478c-adf4-8a6ea2cebdc6",
   "metadata": {
    "slideshow": {
     "slide_type": "fragment"
    },
    "tags": []
   },
   "source": [
    "<br><br>"
   ]
  },
  {
   "cell_type": "markdown",
   "id": "8712ac2d-5ae9-49fc-b868-8182ecd667a3",
   "metadata": {
    "slideshow": {
     "slide_type": "fragment"
    },
    "tags": []
   },
   "source": [
    "Defining variables"
   ]
  },
  {
   "cell_type": "code",
   "execution_count": null,
   "id": "1a7834af-e97a-4cfb-bc14-80ee91515a0a",
   "metadata": {
    "editable": true,
    "slideshow": {
     "slide_type": ""
    },
    "tags": []
   },
   "outputs": [],
   "source": [
    "E = 68.1289790\n",
    "px = -17.945541\n",
    "py = 13.1652603\n",
    "pz = 64.3908386"
   ]
  },
  {
   "cell_type": "markdown",
   "id": "a8df1c61-b748-4da7-9323-cdd4fc419188",
   "metadata": {
    "editable": true,
    "slideshow": {
     "slide_type": "fragment"
    },
    "tags": []
   },
   "source": [
    "<br><br>"
   ]
  },
  {
   "cell_type": "markdown",
   "id": "b64eef1b-eac7-41c5-8132-25ff68809afc",
   "metadata": {
    "editable": true,
    "slideshow": {
     "slide_type": "fragment"
    },
    "tags": []
   },
   "source": [
    "Now we can use `E`, `px`, `py`, `pz`:"
   ]
  },
  {
   "cell_type": "code",
   "execution_count": null,
   "id": "35fdabfc-15ba-4cf9-9e7b-66a0e24e9e0b",
   "metadata": {
    "tags": []
   },
   "outputs": [],
   "source": [
    "px"
   ]
  },
  {
   "cell_type": "markdown",
   "id": "63f88c08-4108-4044-8df4-ec7de4f063a3",
   "metadata": {
    "editable": true,
    "slideshow": {
     "slide_type": "slide"
    },
    "tags": []
   },
   "source": [
    "Calculate ${p_x}^2 + {p_y}^2$:"
   ]
  },
  {
   "cell_type": "code",
   "execution_count": null,
   "id": "d1278f8f-2dbf-468d-99da-4c38a40e8142",
   "metadata": {
    "tags": []
   },
   "outputs": [],
   "source": [
    "px**2 + py**2"
   ]
  },
  {
   "cell_type": "markdown",
   "id": "5306fda8-9008-4ffd-8abe-6cce7dd9efca",
   "metadata": {
    "slideshow": {
     "slide_type": "fragment"
    },
    "tags": []
   },
   "source": [
    "<br><br><br>"
   ]
  },
  {
   "cell_type": "markdown",
   "id": "c01869f7-e03a-456a-b76a-736ee0252891",
   "metadata": {
    "slideshow": {
     "slide_type": "fragment"
    },
    "tags": []
   },
   "source": [
    "Now $\\displaystyle \\sqrt{{p_x}^2 + {p_y}^2 + {p_z}^2}$:"
   ]
  },
  {
   "cell_type": "code",
   "execution_count": null,
   "id": "0fff34f9-e894-428d-8e36-e81521dff472",
   "metadata": {
    "tags": []
   },
   "outputs": [],
   "source": [
    "(px**2 + py**2 + pz**2)**(1/2)"
   ]
  },
  {
   "cell_type": "markdown",
   "id": "deb862a8-583d-475e-8be5-d1d5f02de98e",
   "metadata": {
    "editable": true,
    "slideshow": {
     "slide_type": "slide"
    },
    "tags": []
   },
   "source": [
    "We'll be using these equations a lot:"
   ]
  },
  {
   "cell_type": "markdown",
   "id": "31f9fbbd-f895-4bbf-b1ff-00c36325173a",
   "metadata": {
    "editable": true,
    "slideshow": {
     "slide_type": ""
    },
    "tags": []
   },
   "source": [
    "<br><br>"
   ]
  },
  {
   "cell_type": "markdown",
   "id": "8f68cd47-1ee5-446b-bd0e-3077e5ca82c4",
   "metadata": {
    "editable": true,
    "slideshow": {
     "slide_type": ""
    },
    "tags": []
   },
   "source": [
    "$$p = \\sqrt{{p_x}^2 + {p_y}^2 + {p_z}^2}$$"
   ]
  },
  {
   "cell_type": "markdown",
   "id": "b301e417-9287-4d24-9021-db35e0a6cf85",
   "metadata": {
    "editable": true,
    "slideshow": {
     "slide_type": ""
    },
    "tags": []
   },
   "source": [
    "<br>"
   ]
  },
  {
   "cell_type": "markdown",
   "id": "540defd5-4197-41c0-994c-38c36f6ce9cf",
   "metadata": {
    "editable": true,
    "slideshow": {
     "slide_type": ""
    },
    "tags": []
   },
   "source": [
    "$$m = \\sqrt{E^2 - p^2}$$"
   ]
  },
  {
   "cell_type": "markdown",
   "id": "73eb967d-9f21-48b0-b290-a3865d958ca1",
   "metadata": {
    "editable": true,
    "slideshow": {
     "slide_type": ""
    },
    "tags": []
   },
   "source": [
    "<br><br>"
   ]
  },
  {
   "cell_type": "markdown",
   "id": "9f0eb974-df31-4bac-acba-8f09ad32a8e1",
   "metadata": {
    "editable": true,
    "slideshow": {
     "slide_type": "fragment"
    },
    "tags": []
   },
   "source": [
    "**Quizlet:** Fix the mistake!"
   ]
  },
  {
   "cell_type": "code",
   "execution_count": null,
   "id": "795c2084-3830-4961-8939-aab13c4029d0",
   "metadata": {
    "editable": true,
    "slideshow": {
     "slide_type": ""
    },
    "tags": []
   },
   "outputs": [],
   "source": [
    "m = (E**2 - px**2 + py**2 + pz**2)**(1/2)\n",
    "m"
   ]
  },
  {
   "cell_type": "markdown",
   "id": "d76c26e8-6473-476c-8af9-132d7da25c44",
   "metadata": {
    "editable": true,
    "slideshow": {
     "slide_type": "slide"
    },
    "tags": []
   },
   "source": [
    "### Functions"
   ]
  },
  {
   "cell_type": "markdown",
   "id": "0715bbb3-19d0-4194-893d-cd92a332d8d7",
   "metadata": {},
   "source": [
    "<br>"
   ]
  },
  {
   "cell_type": "markdown",
   "id": "bf9f797b-a60d-4b0c-b48b-011bd912de11",
   "metadata": {
    "editable": true,
    "slideshow": {
     "slide_type": "fragment"
    },
    "tags": []
   },
   "source": [
    "The syntax for defining a function is:"
   ]
  },
  {
   "cell_type": "code",
   "execution_count": null,
   "id": "e5ce6744-dc02-42c0-acff-9f3fa03f4572",
   "metadata": {
    "editable": true,
    "slideshow": {
     "slide_type": ""
    },
    "tags": []
   },
   "outputs": [],
   "source": [
    "def euclidean(x, y, z):\n",
    "    return (x**2 + y**2 + z**2)**(1/2)\n",
    "\n",
    "def minkowski(time, space):\n",
    "    return (time**2 - space**2)**(1/2)"
   ]
  },
  {
   "cell_type": "markdown",
   "id": "de0dfffe-bc01-451c-9db4-4e7276510655",
   "metadata": {
    "editable": true,
    "slideshow": {
     "slide_type": "fragment"
    },
    "tags": []
   },
   "source": [
    "<br>"
   ]
  },
  {
   "cell_type": "markdown",
   "id": "fdb5c00a-5b3f-423c-8783-a972239cd8d4",
   "metadata": {
    "editable": true,
    "slideshow": {
     "slide_type": ""
    },
    "tags": []
   },
   "source": [
    "We can call them with arguments identified by position or by name."
   ]
  },
  {
   "cell_type": "code",
   "execution_count": null,
   "id": "a290c892-d320-4537-9365-285e3ceedf25",
   "metadata": {
    "editable": true,
    "slideshow": {
     "slide_type": ""
    },
    "tags": []
   },
   "outputs": [],
   "source": [
    "euclidean(px, py, pz)"
   ]
  },
  {
   "cell_type": "markdown",
   "id": "54b1fb3b-6ef2-4b93-b51e-c508e9cdf5c0",
   "metadata": {
    "editable": true,
    "slideshow": {
     "slide_type": ""
    },
    "tags": []
   },
   "source": [
    "<br>"
   ]
  },
  {
   "cell_type": "code",
   "execution_count": null,
   "id": "7f8b0925-351d-4e02-8b27-06522e0c63af",
   "metadata": {
    "editable": true,
    "slideshow": {
     "slide_type": ""
    },
    "tags": []
   },
   "outputs": [],
   "source": [
    "euclidean(z=pz, y=py, x=px)"
   ]
  },
  {
   "cell_type": "markdown",
   "id": "0256a853-cf8a-47d8-82a0-a191c6ac35c5",
   "metadata": {
    "editable": true,
    "slideshow": {
     "slide_type": "fragment"
    },
    "tags": []
   },
   "source": [
    "<br>"
   ]
  },
  {
   "cell_type": "markdown",
   "id": "6ef4f4b4-4564-4f93-a87b-58e39786ae1c",
   "metadata": {
    "editable": true,
    "slideshow": {
     "slide_type": ""
    },
    "tags": []
   },
   "source": [
    "Function calls can be arguments to function calls."
   ]
  },
  {
   "cell_type": "code",
   "execution_count": null,
   "id": "fc5d1c45-f4aa-4017-b803-6cd74a823198",
   "metadata": {
    "editable": true,
    "slideshow": {
     "slide_type": ""
    },
    "tags": []
   },
   "outputs": [],
   "source": [
    "minkowski(E, euclidean(px, py, pz))"
   ]
  },
  {
   "cell_type": "markdown",
   "id": "0bc81aa2-9807-4390-9152-d06a92e9b294",
   "metadata": {
    "editable": true,
    "slideshow": {
     "slide_type": "slide"
    },
    "tags": []
   },
   "source": [
    "Nested indenting only needs to be deeper and pop back to the previous level, but a standard of 2 or 4 spaces are often used."
   ]
  },
  {
   "cell_type": "markdown",
   "id": "8f1f5140-2864-4a91-8d17-009aa5b6ff9d",
   "metadata": {
    "editable": true,
    "slideshow": {
     "slide_type": "fragment"
    },
    "tags": []
   },
   "source": [
    "<br>"
   ]
  },
  {
   "cell_type": "markdown",
   "id": "8adf9555-09d3-453e-87c8-cc5e75fd5174",
   "metadata": {
    "editable": true,
    "slideshow": {
     "slide_type": ""
    },
    "tags": []
   },
   "source": [
    "Beware: **tab** is not **space**! (Though both are invisible.)"
   ]
  },
  {
   "cell_type": "code",
   "execution_count": null,
   "id": "47d731ca-6f69-40d8-bcc9-708e78afe8fa",
   "metadata": {
    "editable": true,
    "slideshow": {
     "slide_type": "fragment"
    },
    "tags": []
   },
   "outputs": [],
   "source": [
    "def mass(E, px, py, pz):\n",
    "    def euclidean(x, y, z):\n",
    "        return (x**2 + y**2 + z**2) ** (1 / 2)\n",
    "\n",
    "    def minkowski(time, space):\n",
    "        return (time**2 - space**2) ** (1 / 2)\n",
    "\n",
    "    return minkowski(E, euclidean(px, py, pz))\n",
    "\n",
    "\n",
    "mass(E, px, py, pz)"
   ]
  },
  {
   "cell_type": "markdown",
   "id": "c1cb4e9e-1777-4a79-a0a7-d6d9d9b4c5df",
   "metadata": {
    "editable": true,
    "slideshow": {
     "slide_type": "slide"
    },
    "tags": []
   },
   "source": [
    "Note: functions can be assigned as variables, too. In Python, everything is an object."
   ]
  },
  {
   "cell_type": "markdown",
   "id": "83ab3d92-79f6-4201-8bc3-9b22d650806b",
   "metadata": {
    "editable": true,
    "slideshow": {
     "slide_type": ""
    },
    "tags": []
   },
   "source": [
    "<br>"
   ]
  },
  {
   "cell_type": "code",
   "execution_count": null,
   "id": "977c2746-cfd1-44e1-9c66-5e2c321d6f8f",
   "metadata": {
    "editable": true,
    "slideshow": {
     "slide_type": "fragment"
    },
    "tags": []
   },
   "outputs": [],
   "source": [
    "mag3d = euclidean"
   ]
  },
  {
   "cell_type": "markdown",
   "id": "39191432-148a-40ac-8802-685728f231bd",
   "metadata": {},
   "source": [
    "<br>"
   ]
  },
  {
   "cell_type": "code",
   "execution_count": null,
   "id": "b9f135bf-6bdd-4d5f-8557-d5811cc7ac58",
   "metadata": {
    "editable": true,
    "slideshow": {
     "slide_type": "fragment"
    },
    "tags": []
   },
   "outputs": [],
   "source": [
    "mag3d(px, py, pz)"
   ]
  },
  {
   "cell_type": "markdown",
   "id": "5a053194-1b4b-4c9f-ad1e-e4f63dfd965a",
   "metadata": {
    "editable": true,
    "slideshow": {
     "slide_type": "slide"
    },
    "tags": []
   },
   "source": [
    "### Importing functionality into Python"
   ]
  },
  {
   "cell_type": "markdown",
   "id": "ad3b2e09-a0bf-47b6-a18f-d7d366a14a09",
   "metadata": {
    "editable": true,
    "slideshow": {
     "slide_type": "fragment"
    },
    "tags": []
   },
   "source": [
    "<br>"
   ]
  },
  {
   "cell_type": "markdown",
   "id": "c9bce2a3-7517-4a9f-9f60-9f9ed0169807",
   "metadata": {
    "editable": true,
    "slideshow": {
     "slide_type": ""
    },
    "tags": []
   },
   "source": [
    "The `import` statement loads libraries, which may be from Python's standard library or something installed with `pip` or `conda`."
   ]
  },
  {
   "cell_type": "markdown",
   "id": "794d0f95-632a-4d07-8a9a-940dde5d66ab",
   "metadata": {
    "editable": true,
    "slideshow": {
     "slide_type": ""
    },
    "tags": []
   },
   "source": [
    "<br>"
   ]
  },
  {
   "cell_type": "code",
   "execution_count": null,
   "id": "34963d5d-9852-4742-8269-b080ac83bda7",
   "metadata": {
    "editable": true,
    "slideshow": {
     "slide_type": ""
    },
    "tags": []
   },
   "outputs": [],
   "source": [
    "import math"
   ]
  },
  {
   "cell_type": "markdown",
   "id": "22d45b54-dd7a-40f4-bd0f-3c3366614f7d",
   "metadata": {
    "editable": true,
    "slideshow": {
     "slide_type": "fragment"
    },
    "tags": []
   },
   "source": [
    "<br>"
   ]
  },
  {
   "cell_type": "markdown",
   "id": "14f098af-2bfb-4fac-90dd-1ab05b9e51c6",
   "metadata": {
    "editable": true,
    "slideshow": {
     "slide_type": ""
    },
    "tags": []
   },
   "source": [
    "This introduced a new variable into the environment."
   ]
  },
  {
   "cell_type": "code",
   "execution_count": null,
   "id": "05ff827e-dfb2-4df5-a0db-63cc8c0543c5",
   "metadata": {
    "editable": true,
    "slideshow": {
     "slide_type": ""
    },
    "tags": []
   },
   "outputs": [],
   "source": [
    "math"
   ]
  },
  {
   "cell_type": "markdown",
   "id": "032fd516-1286-43a9-a7ca-41420d0da094",
   "metadata": {
    "editable": true,
    "slideshow": {
     "slide_type": "fragment"
    },
    "tags": []
   },
   "source": [
    "<br>"
   ]
  },
  {
   "cell_type": "markdown",
   "id": "5138c8f4-8a85-4910-b93e-d7baa7f6f1e0",
   "metadata": {
    "editable": true,
    "slideshow": {
     "slide_type": ""
    },
    "tags": []
   },
   "source": [
    "Objects inside the module can be accessed with a dot (`.`)."
   ]
  },
  {
   "cell_type": "code",
   "execution_count": null,
   "id": "4941a765-4a36-4996-9b42-e9baad2702e0",
   "metadata": {
    "tags": []
   },
   "outputs": [],
   "source": [
    "math.sqrt(E**2 - px**2 - py**2 - pz**2)"
   ]
  },
  {
   "cell_type": "markdown",
   "id": "16cef0ff-d6f1-45b8-9137-584d349b82f1",
   "metadata": {
    "editable": true,
    "slideshow": {
     "slide_type": "slide"
    },
    "tags": []
   },
   "source": [
    "The dot-syntax prevents functions with the same names in different libraries from conflicting."
   ]
  },
  {
   "cell_type": "markdown",
   "id": "70d0c5ac-ce12-43af-a33f-02fe8b6bdc30",
   "metadata": {
    "editable": true,
    "slideshow": {
     "slide_type": ""
    },
    "tags": []
   },
   "source": [
    "<br>"
   ]
  },
  {
   "cell_type": "code",
   "execution_count": null,
   "id": "b2a34af9-e7e0-4958-82d8-585ada72b6f1",
   "metadata": {
    "editable": true,
    "slideshow": {
     "slide_type": "fragment"
    },
    "tags": []
   },
   "outputs": [],
   "source": [
    "import numpy"
   ]
  },
  {
   "cell_type": "markdown",
   "id": "d91ff68a-a6ab-4028-ab86-99e4cf409965",
   "metadata": {
    "editable": true,
    "slideshow": {
     "slide_type": ""
    },
    "tags": []
   },
   "source": [
    "<br>"
   ]
  },
  {
   "cell_type": "code",
   "execution_count": null,
   "id": "971d2d20-5508-4768-8816-19d26df432fb",
   "metadata": {
    "editable": true,
    "slideshow": {
     "slide_type": "fragment"
    },
    "tags": []
   },
   "outputs": [],
   "source": [
    "numpy.sqrt"
   ]
  },
  {
   "cell_type": "markdown",
   "id": "24aae8ab-5758-4ca8-be06-06e2c793841e",
   "metadata": {
    "editable": true,
    "slideshow": {
     "slide_type": ""
    },
    "tags": []
   },
   "source": [
    "<br>"
   ]
  },
  {
   "cell_type": "code",
   "execution_count": null,
   "id": "d777106e-0885-4f57-b463-c95c48b335bc",
   "metadata": {
    "editable": true,
    "slideshow": {
     "slide_type": "fragment"
    },
    "tags": []
   },
   "outputs": [],
   "source": [
    "math.sqrt"
   ]
  },
  {
   "cell_type": "markdown",
   "id": "0b5b9e94-e504-4303-8f08-d995c6d7678e",
   "metadata": {
    "editable": true,
    "slideshow": {
     "slide_type": ""
    },
    "tags": []
   },
   "source": [
    "<br>"
   ]
  },
  {
   "cell_type": "code",
   "execution_count": null,
   "id": "20b0bb8b-fc22-45ec-8904-5eb1403a57ef",
   "metadata": {
    "editable": true,
    "slideshow": {
     "slide_type": "fragment"
    },
    "tags": []
   },
   "outputs": [],
   "source": [
    "numpy.sqrt is math.sqrt"
   ]
  },
  {
   "cell_type": "markdown",
   "id": "a3ea0aba-e56d-4c6f-b2a3-f9d5adbe9ed6",
   "metadata": {
    "editable": true,
    "slideshow": {
     "slide_type": "slide"
    },
    "tags": []
   },
   "source": [
    "Some libraries have conventional \"short names.\""
   ]
  },
  {
   "cell_type": "code",
   "execution_count": null,
   "id": "11ddc537-6a89-4b23-99c6-ece4ce69a6c7",
   "metadata": {
    "editable": true,
    "slideshow": {
     "slide_type": ""
    },
    "tags": []
   },
   "outputs": [],
   "source": [
    "import numpy as np"
   ]
  },
  {
   "cell_type": "markdown",
   "id": "fa7bbc53-cc82-46db-a7ab-52b8b510809b",
   "metadata": {
    "editable": true,
    "slideshow": {
     "slide_type": ""
    },
    "tags": []
   },
   "source": [
    "<br>"
   ]
  },
  {
   "cell_type": "code",
   "execution_count": null,
   "id": "4a9cfb3a-f8bb-4ba3-b661-ce913eee7251",
   "metadata": {
    "editable": true,
    "slideshow": {
     "slide_type": "fragment"
    },
    "tags": []
   },
   "outputs": [],
   "source": [
    "np.sqrt(E**2 - px**2 - py**2 - pz**2)"
   ]
  },
  {
   "cell_type": "markdown",
   "id": "a06ac6de-0710-48bd-b38b-cb2972a0a7ed",
   "metadata": {
    "editable": true,
    "slideshow": {
     "slide_type": "slide"
    },
    "tags": []
   },
   "source": [
    "Sometimes, you might prefer to extract only one object from a library."
   ]
  },
  {
   "cell_type": "markdown",
   "id": "c28a9bc7-dacf-493d-9dd7-ab887df2aeef",
   "metadata": {
    "editable": true,
    "slideshow": {
     "slide_type": ""
    },
    "tags": []
   },
   "source": [
    "<br>"
   ]
  },
  {
   "cell_type": "code",
   "execution_count": null,
   "id": "113a2da1-13a4-4417-87bb-390088ad4b87",
   "metadata": {
    "editable": true,
    "slideshow": {
     "slide_type": ""
    },
    "tags": []
   },
   "outputs": [],
   "source": [
    "from hepunits import GeV\n",
    "from particle import Particle"
   ]
  },
  {
   "cell_type": "markdown",
   "id": "07aa5860-cbd9-4f07-809a-8c63781d7b64",
   "metadata": {
    "editable": true,
    "slideshow": {
     "slide_type": ""
    },
    "tags": []
   },
   "source": [
    "<br>"
   ]
  },
  {
   "cell_type": "code",
   "execution_count": null,
   "id": "45062720-354d-4f33-b82d-d47909170584",
   "metadata": {
    "editable": true,
    "slideshow": {
     "slide_type": "fragment"
    },
    "tags": []
   },
   "outputs": [],
   "source": [
    "muon = Particle.from_name(\"mu+\")\n",
    "muon"
   ]
  },
  {
   "cell_type": "markdown",
   "id": "003da92e-6409-4ffe-bf1d-5b45f3d75b3c",
   "metadata": {
    "editable": true,
    "slideshow": {
     "slide_type": ""
    },
    "tags": []
   },
   "source": [
    "<br>"
   ]
  },
  {
   "cell_type": "code",
   "execution_count": null,
   "id": "44363d17-f30b-4a3c-a625-e724ad483355",
   "metadata": {
    "editable": true,
    "slideshow": {
     "slide_type": "fragment"
    },
    "tags": []
   },
   "outputs": [],
   "source": [
    "muon.mass / GeV"
   ]
  },
  {
   "cell_type": "markdown",
   "id": "0f9f4bc2-1832-411b-b574-f801b0b0ef8e",
   "metadata": {
    "editable": true,
    "slideshow": {
     "slide_type": "slide"
    },
    "tags": []
   },
   "source": [
    "### Data types"
   ]
  },
  {
   "cell_type": "markdown",
   "id": "ecf55680-9464-4f2c-9caf-745df1035fdf",
   "metadata": {
    "editable": true,
    "slideshow": {
     "slide_type": "fragment"
    },
    "tags": []
   },
   "source": [
    "<br>"
   ]
  },
  {
   "cell_type": "markdown",
   "id": "062a8ce6-822f-4ac8-b50f-d294c8da7bac",
   "metadata": {
    "editable": true,
    "slideshow": {
     "slide_type": ""
    },
    "tags": []
   },
   "source": [
    "Python has data types, but unlike C++, type correctness is checked just before computation, not in a separate compilation phase."
   ]
  },
  {
   "cell_type": "markdown",
   "id": "e88d409a-7e9a-4741-928e-95516c918853",
   "metadata": {
    "editable": true,
    "slideshow": {
     "slide_type": ""
    },
    "tags": []
   },
   "source": [
    "<br>"
   ]
  },
  {
   "cell_type": "code",
   "execution_count": null,
   "id": "0ce4edda-e60e-4ef0-b574-547721bb544c",
   "metadata": {
    "editable": true,
    "slideshow": {
     "slide_type": "fragment"
    },
    "tags": [
     "raises-exception"
    ]
   },
   "outputs": [],
   "source": [
    "1 + \"2\""
   ]
  },
  {
   "cell_type": "markdown",
   "id": "f3c2fa2a-37dd-44d2-863a-abced3a5df5c",
   "metadata": {
    "editable": true,
    "slideshow": {
     "slide_type": "fragment"
    },
    "tags": []
   },
   "source": [
    "<br>"
   ]
  },
  {
   "cell_type": "markdown",
   "id": "4c09162d-aaa0-4d73-a836-5b3088635c45",
   "metadata": {
    "editable": true,
    "slideshow": {
     "slide_type": ""
    },
    "tags": []
   },
   "source": [
    "Check their types:"
   ]
  },
  {
   "cell_type": "code",
   "execution_count": null,
   "id": "dbb38176-9afa-4fac-b17c-9076b6451f51",
   "metadata": {
    "tags": []
   },
   "outputs": [],
   "source": [
    "type(1)"
   ]
  },
  {
   "cell_type": "markdown",
   "id": "417eb1dd-a077-4c70-b0ab-629a74cb7eed",
   "metadata": {
    "editable": true,
    "slideshow": {
     "slide_type": ""
    },
    "tags": []
   },
   "source": [
    "<br>"
   ]
  },
  {
   "cell_type": "code",
   "execution_count": null,
   "id": "526c542d-9772-4a92-81a7-5483105b5bb5",
   "metadata": {
    "tags": []
   },
   "outputs": [],
   "source": [
    "type(\"2\")"
   ]
  },
  {
   "cell_type": "markdown",
   "id": "2149200c-1a96-434c-b530-d6607a10ae92",
   "metadata": {
    "editable": true,
    "slideshow": {
     "slide_type": "slide"
    },
    "tags": []
   },
   "source": [
    "_Therefore_, types are also objects that you can assign to variables and inspect at runtime, unlike C++."
   ]
  },
  {
   "cell_type": "markdown",
   "id": "c5e322f6-8bd1-44e6-8da2-5a812c525edf",
   "metadata": {
    "editable": true,
    "slideshow": {
     "slide_type": ""
    },
    "tags": []
   },
   "source": [
    "<br>"
   ]
  },
  {
   "cell_type": "code",
   "execution_count": null,
   "id": "631df37e-1acd-4465-a3b5-b3ed7efe6d5e",
   "metadata": {
    "editable": true,
    "slideshow": {
     "slide_type": "fragment"
    },
    "tags": []
   },
   "outputs": [],
   "source": [
    "t1 = type(1)\n",
    "t1"
   ]
  },
  {
   "cell_type": "markdown",
   "id": "6368de3d-61b2-4c64-a238-b3f95c339b7b",
   "metadata": {},
   "source": [
    "<br>"
   ]
  },
  {
   "cell_type": "code",
   "execution_count": null,
   "id": "3f397c80-814c-4d68-9c06-cb21d40c47cc",
   "metadata": {
    "slideshow": {
     "slide_type": "fragment"
    },
    "tags": []
   },
   "outputs": [],
   "source": [
    "t2 = type(\"2\")\n",
    "t2"
   ]
  },
  {
   "cell_type": "markdown",
   "id": "f3907392-96a9-4571-a107-3bcf441b27c9",
   "metadata": {
    "editable": true,
    "slideshow": {
     "slide_type": "fragment"
    },
    "tags": []
   },
   "source": [
    "<br>"
   ]
  },
  {
   "cell_type": "markdown",
   "id": "e2d76cf8-e555-4e6f-b6c7-80aec046a580",
   "metadata": {
    "editable": true,
    "slideshow": {
     "slide_type": ""
    },
    "tags": []
   },
   "source": [
    "Most type objects are also functions that create or convert data to that type."
   ]
  },
  {
   "cell_type": "markdown",
   "id": "c5ef6f7a-acaa-4944-9b91-6b5e6864eba9",
   "metadata": {
    "editable": true,
    "slideshow": {
     "slide_type": ""
    },
    "tags": []
   },
   "source": [
    "<br>"
   ]
  },
  {
   "cell_type": "code",
   "execution_count": null,
   "id": "8127d2e2-90d4-4ee5-8fce-5df28984433f",
   "metadata": {
    "editable": true,
    "slideshow": {
     "slide_type": "fragment"
    },
    "tags": []
   },
   "outputs": [],
   "source": [
    "int(\"2\")"
   ]
  },
  {
   "cell_type": "markdown",
   "id": "fe677b84-3382-4ead-88c1-27a3fd06ac82",
   "metadata": {},
   "source": [
    "<br>"
   ]
  },
  {
   "cell_type": "code",
   "execution_count": null,
   "id": "5632b0ef-575b-471a-94f8-f2aad5ccc2c5",
   "metadata": {
    "slideshow": {
     "slide_type": "fragment"
    },
    "tags": []
   },
   "outputs": [],
   "source": [
    "t1(\"2\")"
   ]
  },
  {
   "cell_type": "markdown",
   "id": "f4ae8731-4246-4cce-8419-4067715e0de4",
   "metadata": {
    "editable": true,
    "slideshow": {
     "slide_type": "slide"
    },
    "tags": []
   },
   "source": [
    "**Quizlet:** before you run the following, what will it do?"
   ]
  },
  {
   "cell_type": "markdown",
   "id": "0a84cc48-2c1f-4279-b919-1318c7a8dd90",
   "metadata": {
    "editable": true,
    "slideshow": {
     "slide_type": ""
    },
    "tags": []
   },
   "source": [
    "<br>"
   ]
  },
  {
   "cell_type": "code",
   "execution_count": null,
   "id": "a13e3188-3ae1-41ce-adc5-50acaa29f80d",
   "metadata": {
    "editable": true,
    "slideshow": {
     "slide_type": ""
    },
    "tags": []
   },
   "outputs": [],
   "source": [
    "type(type(1)(\"2\"))"
   ]
  },
  {
   "cell_type": "code",
   "execution_count": null,
   "id": "66bb648c-b58c-424e-a2cc-6a2e1740b505",
   "metadata": {},
   "outputs": [],
   "source": [
    "type(int)"
   ]
  },
  {
   "cell_type": "markdown",
   "id": "2988fc4c-6d2c-44e7-b0aa-aef1d5a8fbf7",
   "metadata": {
    "editable": true,
    "slideshow": {
     "slide_type": "slide"
    },
    "tags": []
   },
   "source": [
    "NumPy (`import numpy as np`) has some types that look like standard Python types, but they're not."
   ]
  },
  {
   "cell_type": "markdown",
   "id": "d986dce9-bd50-4621-8ed9-f6ae9b90e911",
   "metadata": {
    "editable": true,
    "slideshow": {
     "slide_type": ""
    },
    "tags": []
   },
   "source": [
    "<br>"
   ]
  },
  {
   "cell_type": "code",
   "execution_count": null,
   "id": "0493738f-6a7c-4983-8913-df2b8b3f2993",
   "metadata": {
    "editable": true,
    "slideshow": {
     "slide_type": "fragment"
    },
    "tags": []
   },
   "outputs": [],
   "source": [
    "np_one = np.int32(1)\n",
    "np_one"
   ]
  },
  {
   "cell_type": "markdown",
   "id": "92003b76-a64b-4dbe-9e2e-75122659198e",
   "metadata": {
    "editable": true,
    "slideshow": {
     "slide_type": ""
    },
    "tags": []
   },
   "source": [
    "<br>"
   ]
  },
  {
   "cell_type": "code",
   "execution_count": null,
   "id": "94fcd4c1-de79-4348-ad04-4b3da0d8eeca",
   "metadata": {
    "editable": true,
    "slideshow": {
     "slide_type": "fragment"
    },
    "tags": []
   },
   "outputs": [],
   "source": [
    "type(np_one)"
   ]
  },
  {
   "cell_type": "markdown",
   "id": "0299b9e4-8d1d-43ad-89ac-8f9fda6d614a",
   "metadata": {
    "editable": true,
    "slideshow": {
     "slide_type": "fragment"
    },
    "tags": []
   },
   "source": [
    "<br>"
   ]
  },
  {
   "cell_type": "markdown",
   "id": "0fb49cc2-e3a3-4292-8e7a-92c14ff5dc44",
   "metadata": {
    "editable": true,
    "slideshow": {
     "slide_type": ""
    },
    "tags": []
   },
   "source": [
    "`np.int32` is not `int`."
   ]
  },
  {
   "cell_type": "markdown",
   "id": "508fa8d0-cd68-41ef-bbd3-82460c720c77",
   "metadata": {
    "editable": true,
    "slideshow": {
     "slide_type": "fragment"
    },
    "tags": []
   },
   "source": [
    "<br>"
   ]
  },
  {
   "cell_type": "code",
   "execution_count": null,
   "id": "6f4ceac3-ff24-40a4-ad25-5ca6787f993c",
   "metadata": {
    "editable": true,
    "slideshow": {
     "slide_type": ""
    },
    "tags": []
   },
   "outputs": [],
   "source": [
    "np.int32 == int"
   ]
  },
  {
   "cell_type": "markdown",
   "id": "92ec6b5e-17ab-4620-b564-3f446f18d335",
   "metadata": {
    "editable": true,
    "slideshow": {
     "slide_type": ""
    },
    "tags": []
   },
   "source": [
    "<br>"
   ]
  },
  {
   "cell_type": "code",
   "execution_count": null,
   "id": "a9655649-2420-4559-a59f-5132dae0a9b1",
   "metadata": {
    "editable": true,
    "slideshow": {
     "slide_type": "fragment"
    },
    "tags": []
   },
   "outputs": [],
   "source": [
    "isinstance(np_one, int)"
   ]
  },
  {
   "cell_type": "markdown",
   "id": "1fe6de39-8a9c-40fb-850b-b990656685d4",
   "metadata": {
    "editable": true,
    "slideshow": {
     "slide_type": "slide"
    },
    "tags": []
   },
   "source": [
    "<center>\n",
    "<img src=\"../img/dtype-hierarchy.png\" width=\"40%\">\n",
    "</center>"
   ]
  },
  {
   "cell_type": "markdown",
   "id": "5ffea8ca-59d6-4228-9bce-cf139c0f66b0",
   "metadata": {},
   "source": [
    "<br>"
   ]
  },
  {
   "cell_type": "code",
   "execution_count": null,
   "id": "881c3733-b69b-4cc6-bdcf-9a8562b1fc96",
   "metadata": {
    "editable": true,
    "slideshow": {
     "slide_type": ""
    },
    "tags": []
   },
   "outputs": [],
   "source": [
    "isinstance(np.int32(1), np.int32)"
   ]
  },
  {
   "cell_type": "markdown",
   "id": "6e3e4aff-89fb-4a6b-a80e-284a940054c8",
   "metadata": {
    "editable": true,
    "slideshow": {
     "slide_type": "slide"
    },
    "tags": []
   },
   "source": [
    "### Collection types"
   ]
  },
  {
   "cell_type": "markdown",
   "id": "b055ac17-c3ab-4392-abb6-aecfa09a8922",
   "metadata": {
    "editable": true,
    "slideshow": {
     "slide_type": "fragment"
    },
    "tags": []
   },
   "source": [
    "<br>"
   ]
  },
  {
   "cell_type": "markdown",
   "id": "d3b03eac-aad1-41a1-9de4-720f68cb7943",
   "metadata": {
    "editable": true,
    "slideshow": {
     "slide_type": ""
    },
    "tags": []
   },
   "source": [
    "The two most basic collection types in Python are `list` and `dict`."
   ]
  },
  {
   "cell_type": "markdown",
   "id": "6d6ba820-8eb7-4c15-a3be-2bda78921cbb",
   "metadata": {
    "editable": true,
    "slideshow": {
     "slide_type": ""
    },
    "tags": []
   },
   "source": [
    "<br>"
   ]
  },
  {
   "cell_type": "code",
   "execution_count": null,
   "id": "d2c033bf-2ff6-4577-9818-e86dadc6e61a",
   "metadata": {
    "editable": true,
    "slideshow": {
     "slide_type": "fragment"
    },
    "tags": []
   },
   "outputs": [],
   "source": [
    "some_list = [0.0, 1.1, 2.2, 3.3, 4.4, 5.5, 6.6, 7.7, 8.8, 9.9]\n",
    "some_list"
   ]
  },
  {
   "cell_type": "markdown",
   "id": "2b2c94fa-e474-4efb-8449-02b1039bbe71",
   "metadata": {},
   "source": [
    "<br>"
   ]
  },
  {
   "cell_type": "code",
   "execution_count": null,
   "id": "8ce83732-f8e8-41fe-ae66-6a14f3b3ced6",
   "metadata": {
    "editable": true,
    "slideshow": {
     "slide_type": "fragment"
    },
    "tags": []
   },
   "outputs": [],
   "source": [
    "type(some_list)"
   ]
  },
  {
   "cell_type": "code",
   "execution_count": null,
   "id": "440f7d27-236c-4e5b-92c9-81f516e63661",
   "metadata": {
    "editable": true,
    "slideshow": {
     "slide_type": "fragment"
    },
    "tags": []
   },
   "outputs": [],
   "source": [
    "len(some_list)"
   ]
  },
  {
   "cell_type": "markdown",
   "id": "fccec10a-121b-44c2-b60d-bcd634bb5d38",
   "metadata": {
    "editable": true,
    "slideshow": {
     "slide_type": ""
    },
    "tags": []
   },
   "source": [
    "<br>"
   ]
  },
  {
   "cell_type": "code",
   "execution_count": null,
   "id": "f86a318c-03c6-47fd-a96b-9bde0f8443cf",
   "metadata": {
    "editable": true,
    "slideshow": {
     "slide_type": "fragment"
    },
    "tags": []
   },
   "outputs": [],
   "source": [
    "some_dict = {\"one\": 1.1, \"two\": 2.2, \"three\": 3.3}\n",
    "some_dict"
   ]
  },
  {
   "cell_type": "markdown",
   "id": "d2fe3ec3-b1e8-4da2-bb26-296e8039d5b4",
   "metadata": {
    "editable": true,
    "slideshow": {
     "slide_type": ""
    },
    "tags": []
   },
   "source": [
    "<br>"
   ]
  },
  {
   "cell_type": "code",
   "execution_count": null,
   "id": "6f983c3e-5c1d-47b6-915c-293fe28d7bbd",
   "metadata": {
    "editable": true,
    "slideshow": {
     "slide_type": "fragment"
    },
    "tags": []
   },
   "outputs": [],
   "source": [
    "type(some_dict)"
   ]
  },
  {
   "cell_type": "code",
   "execution_count": null,
   "id": "8c24d9fe-b71c-42ca-927a-90098ab97f40",
   "metadata": {
    "editable": true,
    "slideshow": {
     "slide_type": "fragment"
    },
    "tags": []
   },
   "outputs": [],
   "source": [
    "len(some_dict)"
   ]
  },
  {
   "cell_type": "markdown",
   "id": "cb1a4f33-01c1-441a-9346-6703be3653d3",
   "metadata": {
    "editable": true,
    "slideshow": {
     "slide_type": "slide"
    },
    "tags": []
   },
   "source": [
    "You can pull data out of a collection with square brackets: `[` `]`."
   ]
  },
  {
   "cell_type": "markdown",
   "id": "fb4386e2-7dad-495a-96ad-000847480934",
   "metadata": {
    "editable": true,
    "slideshow": {
     "slide_type": ""
    },
    "tags": []
   },
   "source": [
    "<br>"
   ]
  },
  {
   "cell_type": "code",
   "execution_count": null,
   "id": "64e6ae0c-f99d-403b-b762-55e6bed69dd5",
   "metadata": {
    "editable": true,
    "slideshow": {
     "slide_type": "fragment"
    },
    "tags": []
   },
   "outputs": [],
   "source": [
    "some_list"
   ]
  },
  {
   "cell_type": "markdown",
   "id": "d2206494-d9af-4e6b-a53e-518b606be453",
   "metadata": {
    "editable": true,
    "slideshow": {
     "slide_type": ""
    },
    "tags": []
   },
   "source": [
    "<br>"
   ]
  },
  {
   "cell_type": "code",
   "execution_count": null,
   "id": "cb00b06c-3810-4109-876a-77039b53e813",
   "metadata": {
    "editable": true,
    "slideshow": {
     "slide_type": ""
    },
    "tags": []
   },
   "outputs": [],
   "source": [
    "some_list[3]"
   ]
  },
  {
   "cell_type": "markdown",
   "id": "ef161665-ec07-461a-8be4-d410de9fde65",
   "metadata": {
    "editable": true,
    "slideshow": {
     "slide_type": ""
    },
    "tags": []
   },
   "source": [
    "<br>"
   ]
  },
  {
   "cell_type": "code",
   "execution_count": null,
   "id": "5a746ef0-bf4f-4ee3-a16e-c1be08f1fbb1",
   "metadata": {
    "editable": true,
    "slideshow": {
     "slide_type": "fragment"
    },
    "tags": []
   },
   "outputs": [],
   "source": [
    "some_dict"
   ]
  },
  {
   "cell_type": "markdown",
   "id": "5f375a85-ad6a-48ed-91e0-9ab29498bc23",
   "metadata": {
    "editable": true,
    "slideshow": {
     "slide_type": ""
    },
    "tags": []
   },
   "source": [
    "<br>"
   ]
  },
  {
   "cell_type": "code",
   "execution_count": null,
   "id": "ce8dcc3f-ed49-44ba-b164-89961ea837e4",
   "metadata": {
    "editable": true,
    "slideshow": {
     "slide_type": ""
    },
    "tags": []
   },
   "outputs": [],
   "source": [
    "some_dict[\"two\"]"
   ]
  },
  {
   "cell_type": "markdown",
   "id": "77ceba2c-4b40-4763-867a-16d4e4420af5",
   "metadata": {
    "editable": true,
    "slideshow": {
     "slide_type": "slide"
    },
    "tags": []
   },
   "source": [
    "You can also change the data in a collection if the square brackets are on the left of an assignment (`=`)."
   ]
  },
  {
   "cell_type": "markdown",
   "id": "5cb151fa-7c00-42ee-991a-25485e42fccb",
   "metadata": {
    "editable": true,
    "slideshow": {
     "slide_type": ""
    },
    "tags": []
   },
   "source": [
    "<br>"
   ]
  },
  {
   "cell_type": "code",
   "execution_count": null,
   "id": "20293403-fb4c-46ad-a83b-805c562cf33d",
   "metadata": {
    "editable": true,
    "slideshow": {
     "slide_type": "fragment"
    },
    "tags": []
   },
   "outputs": [],
   "source": [
    "some_list[3] = 33333"
   ]
  },
  {
   "cell_type": "markdown",
   "id": "1fea1c37-5078-451b-8bdd-5633037d7455",
   "metadata": {
    "editable": true,
    "slideshow": {
     "slide_type": ""
    },
    "tags": []
   },
   "source": [
    "<br>"
   ]
  },
  {
   "cell_type": "code",
   "execution_count": null,
   "id": "3cc12b12-bcd6-4919-9cb8-97ce767e702f",
   "metadata": {
    "editable": true,
    "slideshow": {
     "slide_type": ""
    },
    "tags": []
   },
   "outputs": [],
   "source": [
    "some_list"
   ]
  },
  {
   "cell_type": "markdown",
   "id": "13e4f9fe-c95f-4a29-8a80-3aedfa87b317",
   "metadata": {
    "editable": true,
    "slideshow": {
     "slide_type": ""
    },
    "tags": []
   },
   "source": [
    "<br>"
   ]
  },
  {
   "cell_type": "code",
   "execution_count": null,
   "id": "3cf62ca0-6179-4564-a244-875f485bd283",
   "metadata": {
    "editable": true,
    "slideshow": {
     "slide_type": "fragment"
    },
    "tags": []
   },
   "outputs": [],
   "source": [
    "some_dict[\"two\"] = 22222"
   ]
  },
  {
   "cell_type": "markdown",
   "id": "18e63403-e141-4935-88ee-1d57a26cba29",
   "metadata": {
    "editable": true,
    "slideshow": {
     "slide_type": ""
    },
    "tags": []
   },
   "source": [
    "<br>"
   ]
  },
  {
   "cell_type": "code",
   "execution_count": null,
   "id": "9a4745e6-cb10-4bc5-87d7-f4b8133ac300",
   "metadata": {
    "editable": true,
    "slideshow": {
     "slide_type": ""
    },
    "tags": []
   },
   "outputs": [],
   "source": [
    "some_dict"
   ]
  },
  {
   "cell_type": "markdown",
   "id": "ba127e6d-978b-4da4-93d6-ca2012ba63ab",
   "metadata": {
    "editable": true,
    "slideshow": {
     "slide_type": "slide"
    },
    "tags": []
   },
   "source": [
    "And you can extend them beyond their original length, as well as mix different data types in the same collection."
   ]
  },
  {
   "cell_type": "markdown",
   "id": "1cfcd219-5aeb-4103-9ed2-553af1b72451",
   "metadata": {
    "editable": true,
    "slideshow": {
     "slide_type": ""
    },
    "tags": []
   },
   "source": [
    "<br>"
   ]
  },
  {
   "cell_type": "code",
   "execution_count": null,
   "id": "39edb15f-0a53-4a99-9114-79baa9c6a349",
   "metadata": {
    "editable": true,
    "slideshow": {
     "slide_type": "fragment"
    },
    "tags": []
   },
   "outputs": [],
   "source": [
    "some_list.append(\"mixed types\")"
   ]
  },
  {
   "cell_type": "markdown",
   "id": "cb120257-251e-41bb-9e85-df2bbeff2fb2",
   "metadata": {
    "editable": true,
    "slideshow": {
     "slide_type": ""
    },
    "tags": []
   },
   "source": [
    "<br>"
   ]
  },
  {
   "cell_type": "code",
   "execution_count": null,
   "id": "b422b971-9b24-44ef-a3b6-a29c48178f77",
   "metadata": {
    "editable": true,
    "slideshow": {
     "slide_type": ""
    },
    "tags": []
   },
   "outputs": [],
   "source": [
    "some_list"
   ]
  },
  {
   "cell_type": "markdown",
   "id": "b91f9dce-a178-4bd4-b7e4-4ff046c1f358",
   "metadata": {
    "editable": true,
    "slideshow": {
     "slide_type": ""
    },
    "tags": []
   },
   "source": [
    "<br>"
   ]
  },
  {
   "cell_type": "code",
   "execution_count": null,
   "id": "ca71c5e8-4a6f-496b-acd1-6ee200b67d2a",
   "metadata": {
    "editable": true,
    "slideshow": {
     "slide_type": "fragment"
    },
    "tags": []
   },
   "outputs": [],
   "source": [
    "some_dict[123] = \"mixed types\""
   ]
  },
  {
   "cell_type": "markdown",
   "id": "ca53a504-18f9-4b9a-8283-345423ad6393",
   "metadata": {
    "editable": true,
    "slideshow": {
     "slide_type": ""
    },
    "tags": []
   },
   "source": [
    "<br>"
   ]
  },
  {
   "cell_type": "code",
   "execution_count": null,
   "id": "36e20101-7ecf-4931-8ac2-408390dc20d6",
   "metadata": {
    "editable": true,
    "slideshow": {
     "slide_type": ""
    },
    "tags": []
   },
   "outputs": [],
   "source": [
    "some_dict"
   ]
  },
  {
   "cell_type": "markdown",
   "id": "0305effe-1392-42c2-97bb-92f8bcfba465",
   "metadata": {
    "editable": true,
    "slideshow": {
     "slide_type": "slide"
    },
    "tags": []
   },
   "source": [
    "Ranges within a list can be \"sliced\" with a colon (`:`)."
   ]
  },
  {
   "cell_type": "markdown",
   "id": "96f38a44-99a8-4bd4-afca-22be61a865c3",
   "metadata": {
    "editable": true,
    "slideshow": {
     "slide_type": ""
    },
    "tags": []
   },
   "source": [
    "<br>"
   ]
  },
  {
   "cell_type": "code",
   "execution_count": null,
   "id": "adf72a72-dab8-4e3d-acef-d199ef22878b",
   "metadata": {
    "editable": true,
    "slideshow": {
     "slide_type": "fragment"
    },
    "tags": []
   },
   "outputs": [],
   "source": [
    "some_list"
   ]
  },
  {
   "cell_type": "markdown",
   "id": "94281908-5a96-4e0d-b78c-1ade749652f1",
   "metadata": {
    "editable": true,
    "slideshow": {
     "slide_type": ""
    },
    "tags": []
   },
   "source": [
    "<br>"
   ]
  },
  {
   "cell_type": "code",
   "execution_count": null,
   "id": "e09a69de-650f-42ff-896d-f74b8cba3d96",
   "metadata": {
    "editable": true,
    "slideshow": {
     "slide_type": ""
    },
    "tags": []
   },
   "outputs": [],
   "source": [
    "some_list[2:8]"
   ]
  },
  {
   "cell_type": "markdown",
   "id": "d9043ae7-631a-40d9-a5c7-dfc73a98474e",
   "metadata": {
    "editable": true,
    "slideshow": {
     "slide_type": "fragment"
    },
    "tags": []
   },
   "source": [
    "<br>\n",
    "\n",
    "**Quizlet:** Before you run it, what will this do?"
   ]
  },
  {
   "cell_type": "code",
   "execution_count": null,
   "id": "1d545887-c6e5-4f2f-8bf5-6f8ceb102cc2",
   "metadata": {
    "editable": true,
    "slideshow": {
     "slide_type": ""
    },
    "tags": []
   },
   "outputs": [],
   "source": [
    "some_list[2:8][3]"
   ]
  },
  {
   "cell_type": "markdown",
   "id": "faf8f565-f76e-4247-a20d-369e4707396e",
   "metadata": {
    "editable": true,
    "slideshow": {
     "slide_type": "fragment"
    },
    "tags": []
   },
   "source": [
    "<br>"
   ]
  },
  {
   "cell_type": "markdown",
   "id": "d7975a6c-8c9b-4dc6-a919-ec4fa348c5b1",
   "metadata": {
    "editable": true,
    "slideshow": {
     "slide_type": ""
    },
    "tags": []
   },
   "source": [
    "(We'll see a lot more about slices in the next lesson.)"
   ]
  },
  {
   "cell_type": "markdown",
   "id": "bd9fb69b-09c3-4d17-b340-bd569fc45b99",
   "metadata": {},
   "source": [
    "### Note: object references and mutability"
   ]
  },
  {
   "cell_type": "markdown",
   "id": "7e549c8e-d986-468c-832f-6a019322b378",
   "metadata": {},
   "source": [
    "When we assign a variable in Python, we're actually creating a reference to an object in memory — not copying the object itself.\n",
    "This concept becomes especially important when working with mutable (like collections) vs immutable (integers, strings) types."
   ]
  },
  {
   "cell_type": "code",
   "execution_count": null,
   "id": "379407dc-cbd0-4829-99b1-32512548adc3",
   "metadata": {},
   "outputs": [],
   "source": [
    "a = [1, 2, 3]\n",
    "b = a"
   ]
  },
  {
   "cell_type": "code",
   "execution_count": null,
   "id": "64657322-8f48-4dfb-b3ac-eb6d3f8c7f37",
   "metadata": {},
   "outputs": [],
   "source": [
    "a"
   ]
  },
  {
   "cell_type": "code",
   "execution_count": null,
   "id": "2c851654-f249-4f8a-8eff-b78ed31b5861",
   "metadata": {},
   "outputs": [],
   "source": [
    "b"
   ]
  },
  {
   "cell_type": "markdown",
   "id": "69a98b53-a1de-4ddf-a882-4b271316d489",
   "metadata": {},
   "source": [
    "`a` and `b` point to the same list in memory\n",
    "```\n",
    "        +------------+\n",
    "aa ---> | [1, 2, 3]  |\n",
    "        +------------+\n",
    "bb -----^\n",
    "```"
   ]
  },
  {
   "cell_type": "markdown",
   "id": "94e3ee7c-035b-4daf-926c-d350b82b0832",
   "metadata": {},
   "source": [
    "If we change the list through `b`, `a` will reflect that change too"
   ]
  },
  {
   "cell_type": "code",
   "execution_count": null,
   "id": "9194635b-3a21-40d7-b663-09454f103d20",
   "metadata": {},
   "outputs": [],
   "source": [
    "b[0] = 4"
   ]
  },
  {
   "cell_type": "code",
   "execution_count": null,
   "id": "12559428-3c23-45da-a731-f1a47d63124f",
   "metadata": {},
   "outputs": [],
   "source": [
    "b"
   ]
  },
  {
   "cell_type": "code",
   "execution_count": null,
   "id": "b37f2929-b1ac-4825-917b-ad04e6ebd31c",
   "metadata": {},
   "outputs": [],
   "source": [
    "a"
   ]
  },
  {
   "cell_type": "markdown",
   "id": "ff585983-e6eb-44da-99d9-307f91e4e6b6",
   "metadata": {},
   "source": [
    "This happens because lists are mutable, i.e. we can change their contents in-place."
   ]
  },
  {
   "cell_type": "markdown",
   "id": "e7cb6c41-928f-4446-a248-dedd181550cc",
   "metadata": {},
   "source": [
    "If we want to create a separate list, such that changes to one don't affect the other, we can use copy or slicing:"
   ]
  },
  {
   "cell_type": "code",
   "execution_count": null,
   "id": "427946eb-5cd6-4a10-b951-34b20093b700",
   "metadata": {},
   "outputs": [],
   "source": [
    "a = [1, 2, 3]\n",
    "b = a.copy()\n",
    "c = a[:]\n",
    "b[0] = 4\n",
    "c[0] = 5"
   ]
  },
  {
   "cell_type": "code",
   "execution_count": null,
   "id": "8b26abeb-6d43-4c31-83d1-f6c5f35a567d",
   "metadata": {},
   "outputs": [],
   "source": [
    "a"
   ]
  },
  {
   "cell_type": "code",
   "execution_count": null,
   "id": "824d73ca-b7a9-4884-8952-3c08f2e3df2f",
   "metadata": {},
   "outputs": [],
   "source": [
    "b"
   ]
  },
  {
   "cell_type": "code",
   "execution_count": null,
   "id": "d77fecad-3e30-4fef-80be-ef2d64034dea",
   "metadata": {},
   "outputs": [],
   "source": [
    "c"
   ]
  },
  {
   "cell_type": "markdown",
   "id": "b6fe8e53-a5c4-40e1-99f0-da712f54cf7f",
   "metadata": {},
   "source": [
    "In the case of integers"
   ]
  },
  {
   "cell_type": "code",
   "execution_count": null,
   "id": "95b4ba30-60d7-4c53-8e2f-fc9c84eaf6ba",
   "metadata": {},
   "outputs": [],
   "source": [
    "a = 5\n",
    "b = a\n",
    "b = 6"
   ]
  },
  {
   "cell_type": "markdown",
   "id": "c121d237-da02-4536-a18f-6b3d5bb35ddb",
   "metadata": {},
   "source": [
    "when writing `b = 6` we are reassigning `b` to a new integer object, with `a` being unaffected."
   ]
  },
  {
   "cell_type": "markdown",
   "id": "6fb84f0b-b11a-4686-bf32-f127dd3ca0f8",
   "metadata": {
    "editable": true,
    "slideshow": {
     "slide_type": "slide"
    },
    "tags": []
   },
   "source": [
    "### A little data analysis"
   ]
  },
  {
   "cell_type": "markdown",
   "id": "d128295f-98da-4622-a2bf-39f388102b6f",
   "metadata": {
    "editable": true,
    "slideshow": {
     "slide_type": ""
    },
    "tags": []
   },
   "source": [
    "<br>"
   ]
  },
  {
   "cell_type": "code",
   "execution_count": null,
   "id": "69f26204-410c-4d10-93ac-998ce0b36b31",
   "metadata": {
    "editable": true,
    "slideshow": {
     "slide_type": "fragment"
    },
    "tags": []
   },
   "outputs": [],
   "source": [
    "particles = [\n",
    "    {\"type\": \"electron\", \"E\": 171.848714, \"px\": 38.4242935, \"py\": -28.779644, \"pz\": 165.006927, \"charge\": 1,},\n",
    "    {\"type\": \"electron\", \"E\": 138.501266, \"px\": -34.431419, \"py\": 24.6730384, \"pz\": 131.864776, \"charge\": -1,},\n",
    "    {\"type\": \"muon\", \"E\": 68.1289790, \"px\": -17.945541, \"py\": 13.1652603, \"pz\": 64.3908386, \"charge\": 1,},\n",
    "    {\"type\": \"muon\", \"E\": 18.8320473, \"px\": -8.1843795, \"py\": -7.6400470, \"pz\": 15.1420097, \"charge\": -1,},\n",
    "]"
   ]
  },
  {
   "cell_type": "markdown",
   "id": "19cef095-774c-4c20-bb99-e1340fa46478",
   "metadata": {
    "editable": true,
    "slideshow": {
     "slide_type": ""
    },
    "tags": []
   },
   "source": [
    "<br>"
   ]
  },
  {
   "cell_type": "code",
   "execution_count": null,
   "id": "e67dbce8-934a-48f7-9cf7-c4120d43d54d",
   "metadata": {
    "editable": true,
    "slideshow": {
     "slide_type": "fragment"
    },
    "tags": []
   },
   "outputs": [],
   "source": [
    "def particle_decay(name, particle1, particle2):\n",
    "    return {\n",
    "        \"type\": name,\n",
    "        \"E\": particle1[\"E\"] + particle2[\"E\"],\n",
    "        \"px\": particle1[\"px\"] + particle2[\"px\"],\n",
    "        \"py\": particle1[\"py\"] + particle2[\"py\"],\n",
    "        \"pz\": particle1[\"pz\"] + particle2[\"pz\"],\n",
    "        \"charge\": particle1[\"charge\"] + particle2[\"charge\"],\n",
    "    }"
   ]
  },
  {
   "cell_type": "markdown",
   "id": "043224bf-a01f-4d82-a68e-5a37089b3457",
   "metadata": {
    "editable": true,
    "slideshow": {
     "slide_type": "slide"
    },
    "tags": []
   },
   "source": [
    "Starting from the observed electrons and muons, we reconstruct unobserved particles by adding energy and momentum.\n",
    "\n",
    "<br>\n",
    "\n",
    "<center>\n",
    "<img src=\"../img/higgs-to-four-leptons-diagram.png\" width=\"50%\">\n",
    "</center>"
   ]
  },
  {
   "cell_type": "code",
   "execution_count": null,
   "id": "8ae9a0f5-762b-4d7d-b9a8-32b324474879",
   "metadata": {
    "editable": true,
    "slideshow": {
     "slide_type": "slide"
    },
    "tags": []
   },
   "outputs": [],
   "source": [
    "z1 = particle_decay(\"Z boson\", particles[0], particles[1])\n",
    "z1"
   ]
  },
  {
   "cell_type": "markdown",
   "id": "64b73be2-4c95-41c3-beed-2bbc06c452fc",
   "metadata": {
    "editable": true,
    "slideshow": {
     "slide_type": ""
    },
    "tags": []
   },
   "source": [
    "<br>"
   ]
  },
  {
   "cell_type": "code",
   "execution_count": null,
   "id": "c48eb8a9-6b0d-42a4-844b-dbf12a4961fd",
   "metadata": {
    "editable": true,
    "slideshow": {
     "slide_type": ""
    },
    "tags": []
   },
   "outputs": [],
   "source": [
    "z2 = particle_decay(\"Z boson\", particles[2], particles[3])\n",
    "z2"
   ]
  },
  {
   "cell_type": "markdown",
   "id": "9e2e4c6b-b7f7-468b-a879-9da3bf8d2fcd",
   "metadata": {
    "editable": true,
    "slideshow": {
     "slide_type": ""
    },
    "tags": []
   },
   "source": [
    "<br>"
   ]
  },
  {
   "cell_type": "code",
   "execution_count": null,
   "id": "cbe5f383-3462-4ea4-80cd-c64f485cafa2",
   "metadata": {
    "editable": true,
    "slideshow": {
     "slide_type": ""
    },
    "tags": []
   },
   "outputs": [],
   "source": [
    "higgs = particle_decay(\"Higgs boson\", z1, z2)\n",
    "higgs"
   ]
  },
  {
   "cell_type": "markdown",
   "id": "89f111d6-ea4d-438c-9e3c-c6c2080cbfa7",
   "metadata": {
    "editable": true,
    "slideshow": {
     "slide_type": "slide"
    },
    "tags": []
   },
   "source": [
    "**Quizlet:** Define the `particle_mass` function and compute the mass of `z1`, `z2`, and `higgs`."
   ]
  },
  {
   "cell_type": "markdown",
   "id": "1ebce2a9-0186-4270-926d-f36a2c701d80",
   "metadata": {
    "editable": true,
    "slideshow": {
     "slide_type": ""
    },
    "tags": []
   },
   "source": [
    "<br>"
   ]
  },
  {
   "cell_type": "code",
   "execution_count": null,
   "id": "3ba60cb7-e362-4b0b-8402-0d25eeb7270f",
   "metadata": {
    "editable": true,
    "slideshow": {
     "slide_type": ""
    },
    "tags": []
   },
   "outputs": [],
   "source": [
    "def particle_mass(particle):\n",
    "    ..."
   ]
  },
  {
   "cell_type": "markdown",
   "id": "a06a510d-d75a-45e4-84be-7d29ffcb2a6f",
   "metadata": {
    "editable": true,
    "slideshow": {
     "slide_type": "slide"
    },
    "tags": []
   },
   "source": [
    "### `for` loops and `if` branches"
   ]
  },
  {
   "cell_type": "markdown",
   "id": "defb1726-ad62-4c20-aa0f-8213d377c6e0",
   "metadata": {
    "editable": true,
    "slideshow": {
     "slide_type": ""
    },
    "tags": []
   },
   "source": [
    "<br><br><br>"
   ]
  },
  {
   "cell_type": "markdown",
   "id": "5c148c9e-c295-414b-9929-132c8bedd2f8",
   "metadata": {
    "editable": true,
    "slideshow": {
     "slide_type": "fragment"
    },
    "tags": []
   },
   "source": [
    "Can you believe we got this far without `for` and `if`?"
   ]
  },
  {
   "cell_type": "markdown",
   "id": "06fd7ba1-2be3-498e-a497-10e6276de6c2",
   "metadata": {
    "editable": true,
    "slideshow": {
     "slide_type": ""
    },
    "tags": []
   },
   "source": [
    "<br><br>"
   ]
  },
  {
   "cell_type": "markdown",
   "id": "59e1ad36-8130-4c36-8e72-ffef3674c901",
   "metadata": {
    "editable": true,
    "slideshow": {
     "slide_type": "fragment"
    },
    "tags": []
   },
   "source": [
    "These are the fundamental building blocks of _imperative_ programming."
   ]
  },
  {
   "cell_type": "markdown",
   "id": "408c438b-ed84-4502-ac6f-12040f96f10d",
   "metadata": {
    "editable": true,
    "slideshow": {
     "slide_type": "slide"
    },
    "tags": []
   },
   "source": [
    "Python runs a program, one statement at a time, and `for` tells it to repeat an indented block for each value of a collection."
   ]
  },
  {
   "cell_type": "markdown",
   "id": "172e210c-0175-4bec-a34e-92c189046e12",
   "metadata": {
    "editable": true,
    "slideshow": {
     "slide_type": ""
    },
    "tags": []
   },
   "source": [
    "<br>"
   ]
  },
  {
   "cell_type": "code",
   "execution_count": null,
   "id": "5194d3b9-56cd-4c19-9cc3-da8aa18d5d4d",
   "metadata": {
    "editable": true,
    "slideshow": {
     "slide_type": ""
    },
    "tags": []
   },
   "outputs": [],
   "source": [
    "for particle in particles:\n",
    "    print(particle[\"type\"], particle[\"charge\"])"
   ]
  },
  {
   "cell_type": "markdown",
   "id": "1c9157de-f3e3-4cab-b77e-e385526a6cd9",
   "metadata": {
    "editable": true,
    "slideshow": {
     "slide_type": ""
    },
    "tags": []
   },
   "source": [
    "<br>"
   ]
  },
  {
   "cell_type": "markdown",
   "id": "9e1bb52a-de81-4997-8b95-f6a037608941",
   "metadata": {
    "editable": true,
    "slideshow": {
     "slide_type": "fragment"
    },
    "tags": []
   },
   "source": [
    "It doesn't even look ahead to see if there's trouble coming on the next line."
   ]
  },
  {
   "cell_type": "markdown",
   "id": "1fdd88d4-a0a2-4782-8be5-df9f865729a7",
   "metadata": {
    "editable": true,
    "slideshow": {
     "slide_type": ""
    },
    "tags": []
   },
   "source": [
    "<br>"
   ]
  },
  {
   "cell_type": "code",
   "execution_count": null,
   "id": "71ff0029-9b47-4767-8ab5-2bc2699a9937",
   "metadata": {
    "editable": true,
    "slideshow": {
     "slide_type": ""
    },
    "tags": [
     "raises-exception"
    ]
   },
   "outputs": [],
   "source": [
    "for particle in particles:\n",
    "    print(particle[\"type\"])\n",
    "    print(particle[\"charge\"])\n",
    "    print(particle[\"something it does not have\"])"
   ]
  },
  {
   "cell_type": "markdown",
   "id": "78ed6912-ff2b-4a51-ab6c-4e21e0c76427",
   "metadata": {
    "editable": true,
    "slideshow": {
     "slide_type": "slide"
    },
    "tags": []
   },
   "source": [
    "`if` tells it whether it should enter an indented block or not, depending on whether an expression is `True` or `False`."
   ]
  },
  {
   "cell_type": "markdown",
   "id": "1511290b-291c-4b10-a001-2ddd7611139b",
   "metadata": {
    "editable": true,
    "slideshow": {
     "slide_type": ""
    },
    "tags": []
   },
   "source": [
    "<br>"
   ]
  },
  {
   "cell_type": "code",
   "execution_count": null,
   "id": "e3045384-955e-4263-9992-34c88dd4dfb0",
   "metadata": {
    "editable": true,
    "slideshow": {
     "slide_type": ""
    },
    "tags": []
   },
   "outputs": [],
   "source": [
    "for particle in particles:\n",
    "    if particle[\"type\"] == \"electron\":\n",
    "        print(particle)"
   ]
  },
  {
   "cell_type": "markdown",
   "id": "9cce8b9f-f902-4876-bbc7-7758e603e0b6",
   "metadata": {
    "editable": true,
    "slideshow": {
     "slide_type": "fragment"
    },
    "tags": []
   },
   "source": [
    "<br>"
   ]
  },
  {
   "cell_type": "markdown",
   "id": "e0e70ac6-d36a-4748-a818-bbee0e36cb9b",
   "metadata": {
    "editable": true,
    "slideshow": {
     "slide_type": ""
    },
    "tags": []
   },
   "source": [
    "It can switch between two indented blocks if an `else` clause is given."
   ]
  },
  {
   "cell_type": "markdown",
   "id": "f5796af8-6069-46af-aec5-37db1db16bbb",
   "metadata": {
    "editable": true,
    "slideshow": {
     "slide_type": ""
    },
    "tags": []
   },
   "source": [
    "<br>"
   ]
  },
  {
   "cell_type": "code",
   "execution_count": null,
   "id": "33dc16f2-f1ef-42d1-9059-ffc8737a1464",
   "metadata": {
    "editable": true,
    "slideshow": {
     "slide_type": ""
    },
    "tags": []
   },
   "outputs": [],
   "source": [
    "for particle in particles:\n",
    "    if particle[\"type\"] == \"electron\":\n",
    "        print(particle)\n",
    "    else:\n",
    "        print(\"not an electron\")"
   ]
  },
  {
   "cell_type": "markdown",
   "id": "665fdc4f-c41e-47b7-a3f3-7c56345a8e19",
   "metadata": {
    "editable": true,
    "slideshow": {
     "slide_type": "slide"
    },
    "tags": []
   },
   "source": [
    "`if` statements can be nested."
   ]
  },
  {
   "cell_type": "markdown",
   "id": "851c912d-0597-45f5-9f73-39e78752d255",
   "metadata": {
    "editable": true,
    "slideshow": {
     "slide_type": ""
    },
    "tags": []
   },
   "source": [
    "<br>"
   ]
  },
  {
   "cell_type": "code",
   "execution_count": null,
   "id": "cc27b9dc-5ab8-43d8-89e7-759af45b16e4",
   "metadata": {
    "editable": true,
    "slideshow": {
     "slide_type": ""
    },
    "tags": []
   },
   "outputs": [],
   "source": [
    "for particle in particles:\n",
    "    if particle[\"type\"] == \"electron\":\n",
    "        if particle[\"charge\"] > 0:\n",
    "            print(\"e+\")\n",
    "        else:\n",
    "            print(\"e-\")\n",
    "    else:\n",
    "        if particle[\"charge\"] > 0:\n",
    "            print(\"mu+\")\n",
    "        else:\n",
    "            print(\"mu-\")"
   ]
  },
  {
   "cell_type": "markdown",
   "id": "4a372b7b-6f51-4471-b72e-4b9ec8d7cf76",
   "metadata": {
    "editable": true,
    "slideshow": {
     "slide_type": "slide"
    },
    "tags": []
   },
   "source": [
    "And `elif` works as a contraction of `else if` with less indenting."
   ]
  },
  {
   "cell_type": "markdown",
   "id": "7ae4a325-612e-4747-aacd-8144cd09091e",
   "metadata": {
    "editable": true,
    "slideshow": {
     "slide_type": ""
    },
    "tags": []
   },
   "source": [
    "<br>"
   ]
  },
  {
   "cell_type": "code",
   "execution_count": null,
   "id": "29c21152-a458-45a4-a2df-7d9208f309b8",
   "metadata": {
    "editable": true,
    "slideshow": {
     "slide_type": ""
    },
    "tags": []
   },
   "outputs": [],
   "source": [
    "for particle in particles:\n",
    "    if particle[\"type\"] == \"electron\" and particle[\"charge\"] > 0:\n",
    "        print(\"e+\")\n",
    "    elif particle[\"type\"] == \"electron\" and particle[\"charge\"] < 0:\n",
    "        print(\"e-\")\n",
    "    elif particle[\"type\"] == \"muon\" and particle[\"charge\"] > 0:\n",
    "        print(\"mu+\")\n",
    "    elif particle[\"type\"] == \"muon\" and particle[\"charge\"] < 0:\n",
    "        print(\"mu-\")"
   ]
  },
  {
   "cell_type": "markdown",
   "id": "35a6fb00-c3e9-40ba-b1a3-303303069668",
   "metadata": {
    "editable": true,
    "slideshow": {
     "slide_type": "slide"
    },
    "tags": []
   },
   "source": [
    "### From datum (singular) to data (plural)"
   ]
  },
  {
   "cell_type": "markdown",
   "id": "644ecbd7-d7f5-4cc4-8394-792ed759c37c",
   "metadata": {
    "editable": true,
    "slideshow": {
     "slide_type": "fragment"
    },
    "tags": []
   },
   "source": [
    "<br><br><br><br><br>\n",
    "\n",
    "_(Switch out of presentation view now.)_\n",
    "\n",
    "<br><br><br><br><br>"
   ]
  },
  {
   "cell_type": "code",
   "execution_count": 1,
   "id": "6b993e1a-b947-415b-9a0a-3824878f99ec",
   "metadata": {
    "slideshow": {
     "slide_type": "slide"
    },
    "tags": []
   },
   "outputs": [],
   "source": [
    "import json"
   ]
  },
  {
   "cell_type": "code",
   "execution_count": 2,
   "id": "5d3cf445-012a-451c-b3b1-faabd93af177",
   "metadata": {
    "editable": true,
    "slideshow": {
     "slide_type": ""
    },
    "tags": []
   },
   "outputs": [],
   "source": [
    "dataset = json.load(open(\"../data/SMHiggsToZZTo4L.json\"))"
   ]
  },
  {
   "cell_type": "code",
   "execution_count": 3,
   "id": "b26fab95-d701-4efb-b7ac-19fb180f510f",
   "metadata": {
    "tags": []
   },
   "outputs": [
    {
     "data": {
      "text/plain": [
       "list"
      ]
     },
     "execution_count": 3,
     "metadata": {},
     "output_type": "execute_result"
    }
   ],
   "source": [
    "type(dataset)"
   ]
  },
  {
   "cell_type": "code",
   "execution_count": 4,
   "id": "b3df96dd-6ec9-48d3-9a1c-4c62eabad64d",
   "metadata": {
    "tags": []
   },
   "outputs": [
    {
     "data": {
      "text/plain": [
       "10000"
      ]
     },
     "execution_count": 4,
     "metadata": {},
     "output_type": "execute_result"
    }
   ],
   "source": [
    "len(dataset)"
   ]
  },
  {
   "cell_type": "markdown",
   "id": "69a1d5c8-3d73-46a6-a7b3-d996187ba89a",
   "metadata": {
    "tags": []
   },
   "source": [
    "Show just the first 3 collision events using a slice, `0:3`."
   ]
  },
  {
   "cell_type": "code",
   "execution_count": 5,
   "id": "f755ba24-a78b-4613-b9cd-709d2c4503bf",
   "metadata": {
    "tags": []
   },
   "outputs": [
    {
     "data": {
      "text/plain": [
       "[{'run': 1,\n",
       "  'luminosityBlock': 156,\n",
       "  'event': 46501,\n",
       "  'PV': {'x': 0.24369880557060242,\n",
       "   'y': 0.3936990201473236,\n",
       "   'z': 1.451307773590088},\n",
       "  'electron': [],\n",
       "  'muon': [{'pt': 63.04386901855469,\n",
       "    'eta': -0.7186822295188904,\n",
       "    'phi': 2.968005895614624,\n",
       "    'mass': 0.10565836727619171,\n",
       "    'charge': 1,\n",
       "    'pfRelIso03_all': 0.0,\n",
       "    'pfRelIso04_all': 0.0,\n",
       "    'dxy': -0.004785160068422556,\n",
       "    'dxyErr': 0.0060764215886592865,\n",
       "    'dz': 0.09005985409021378,\n",
       "    'dzErr': 0.044572051614522934},\n",
       "   {'pt': 38.12034606933594,\n",
       "    'eta': -0.8794569969177246,\n",
       "    'phi': -1.0324749946594238,\n",
       "    'mass': 0.10565836727619171,\n",
       "    'charge': -1,\n",
       "    'pfRelIso03_all': 0.0,\n",
       "    'pfRelIso04_all': 0.0,\n",
       "    'dxy': 0.0005746808601543307,\n",
       "    'dxyErr': 0.0013040687190368772,\n",
       "    'dz': -0.0032290113158524036,\n",
       "    'dzErr': 0.003023269586265087},\n",
       "   {'pt': 4.04868745803833,\n",
       "    'eta': -0.320764422416687,\n",
       "    'phi': 1.0385035276412964,\n",
       "    'mass': 0.10565836727619171,\n",
       "    'charge': 1,\n",
       "    'pfRelIso03_all': 0.0,\n",
       "    'pfRelIso04_all': 0.17997965216636658,\n",
       "    'dxy': -0.00232272082939744,\n",
       "    'dxyErr': 0.004343290813267231,\n",
       "    'dz': -0.005162843037396669,\n",
       "    'dzErr': 0.004190043080598116}],\n",
       "  'MET': {'pt': 21.929929733276367, 'phi': -2.7301223278045654}},\n",
       " {'run': 1,\n",
       "  'luminosityBlock': 156,\n",
       "  'event': 46502,\n",
       "  'PV': {'x': 0.24427825212478638,\n",
       "   'y': 0.3952622413635254,\n",
       "   'z': -2.879779100418091},\n",
       "  'electron': [{'pt': 21.902679443359375,\n",
       "    'eta': -0.7021886706352234,\n",
       "    'phi': 0.1339961737394333,\n",
       "    'mass': 0.00543835386633873,\n",
       "    'charge': 1,\n",
       "    'pfRelIso03_all': 0.15310849249362946,\n",
       "    'dxy': -0.0005134913371875882,\n",
       "    'dxyErr': 0.002374568721279502,\n",
       "    'dz': -0.003061089664697647,\n",
       "    'dzErr': 0.0025612758472561836},\n",
       "   {'pt': 42.63296890258789,\n",
       "    'eta': -0.9796805381774902,\n",
       "    'phi': -1.8634047508239746,\n",
       "    'mass': 0.008667422458529472,\n",
       "    'charge': 1,\n",
       "    'pfRelIso03_all': 0.07332895696163177,\n",
       "    'dxy': 0.0016475901938974857,\n",
       "    'dxyErr': 0.0029195048846304417,\n",
       "    'dz': 0.0027775841299444437,\n",
       "    'dzErr': 0.003392990678548813},\n",
       "   {'pt': 78.01239013671875,\n",
       "    'eta': -0.9338527917861938,\n",
       "    'phi': -2.2078325748443604,\n",
       "    'mass': 0.018527036532759666,\n",
       "    'charge': -1,\n",
       "    'pfRelIso03_all': 0.02972797304391861,\n",
       "    'dxy': -0.0011600104626268148,\n",
       "    'dxyErr': 0.0025206799618899822,\n",
       "    'dz': 0.002125623868778348,\n",
       "    'dzErr': 0.003055028384551406},\n",
       "   {'pt': 23.835430145263672,\n",
       "    'eta': -1.362490177154541,\n",
       "    'phi': -0.6215649247169495,\n",
       "    'mass': 0.008162532933056355,\n",
       "    'charge': -1,\n",
       "    'pfRelIso03_all': 0.074398934841156,\n",
       "    'dxy': -0.0017699336167424917,\n",
       "    'dxyErr': 0.005515107419341803,\n",
       "    'dz': 0.0029383390210568905,\n",
       "    'dzErr': 0.004372752271592617}],\n",
       "  'muon': [],\n",
       "  'MET': {'pt': 16.97213363647461, 'phi': 2.866946220397949}},\n",
       " {'run': 1,\n",
       "  'luminosityBlock': 156,\n",
       "  'event': 46503,\n",
       "  'PV': {'x': 0.24243676662445068,\n",
       "   'y': 0.39509689807891846,\n",
       "   'z': 1.8682630062103271},\n",
       "  'electron': [{'pt': 11.5711669921875,\n",
       "    'eta': -0.8493275046348572,\n",
       "    'phi': 2.180452585220337,\n",
       "    'mass': -0.00608546519652009,\n",
       "    'charge': -1,\n",
       "    'pfRelIso03_all': -999.0,\n",
       "    'dxy': -0.001959428656846285,\n",
       "    'dxyErr': 0.002926760585978627,\n",
       "    'dz': -0.0060557774268090725,\n",
       "    'dzErr': 0.003230293281376362},\n",
       "   {'pt': 6.690738201141357,\n",
       "    'eta': 2.065934658050537,\n",
       "    'phi': 1.6866998672485352,\n",
       "    'mass': -0.005329584237188101,\n",
       "    'charge': 1,\n",
       "    'pfRelIso03_all': 0.5880627036094666,\n",
       "    'dxy': 0.000966764404438436,\n",
       "    'dxyErr': 0.014851272106170654,\n",
       "    'dz': 2.7469565868377686,\n",
       "    'dzErr': 0.027287257835268974}],\n",
       "  'muon': [],\n",
       "  'MET': {'pt': 19.061464309692383, 'phi': -2.1664631366729736}}]"
      ]
     },
     "execution_count": 5,
     "metadata": {},
     "output_type": "execute_result"
    }
   ],
   "source": [
    "dataset[0:3]"
   ]
  },
  {
   "cell_type": "markdown",
   "id": "dff94447-ee61-4ee1-b829-a24aa687bdb5",
   "metadata": {
    "tags": []
   },
   "source": [
    "<br>\n",
    "\n",
    "**Meaning of each field.** (We will only use a few of these.)\n",
    "\n",
    " * **run** (int): unique identifier for a data-taking period of the LHC. This is simulated data, so the run number is 1.\n",
    " * **luminosityBlock** (int): unique identifier for a period of relatively stable conditions within a run.\n",
    " * **event** (int): unique identifier for one crossing of LHC bunches.\n",
    " * **PV** (dict): primary vertex of the collision.\n",
    "   - **x** (float): $x$-position in cm.\n",
    "   - **y** (float): $y$-position in cm.\n",
    "   - **z** (float): $z$-position (along the beamline) in cm.\n",
    " * **electron** (list of dict): list of electrons (may be empty).\n",
    "   - **pt** (float): $p_T$ component of momentum transverse to the beamline in GeV/$c$.\n",
    "   - **eta** (float): $\\eta$ pseudorapidity (roughly, polar angle with respect to the beamline), unitless.\n",
    "   - **phi** (float): $\\phi$ azimuthal angle (in the plane that is perpendicular to the beamline), unitless.\n",
    "   - **mass** (float): measured mass of the particle in GeV/$c^2$.\n",
    "   - **charge** (int): either `+1` or `-1`, unitless.\n",
    "   - **pfRelIso03_all** (float): quantity that specifies how isolated this electron is from the rest of the particles in the event, unitless.\n",
    "   - **dxy** (float): distance of closest approach to the primary vertex in the plane that is perpendicular to the beamline, in cm.\n",
    "   - **dxyErr** (float): uncertainty in the **dxy** measurement.\n",
    "   - **dz** (float): distance of closest approach to the primary vertex in $z$, along the beamline, in cm.\n",
    "   - **dzErr** (float): uncertainty in the **dz** measurement.\n",
    " * **muon** (list of dict): list of muons (may be empty) with the same dict fields as **electron**.\n",
    " * **MET** (dict): missing transverse energy (in the plane perpendicular to the beamline).\n",
    "   - **pt** (float): $p_T$ magnitude, in GeV/$c$.\n",
    "   - **phi** (float): $\\phi$ aximuthal angle, unitless.\n",
    "\n",
    "<br>"
   ]
  },
  {
   "cell_type": "markdown",
   "id": "53d560e6-a60c-4efe-ab67-38b30b3ce57f",
   "metadata": {
    "tags": []
   },
   "source": [
    "<br>\n",
    "\n",
    "**Coordinate transformations:**\n",
    "\n",
    "- $p_x = p_T \\cos\\phi \\cosh\\eta$\n",
    "- $p_y = p_T \\sin\\phi \\cosh\\eta$\n",
    "- $p_z = p_T \\sinh\\eta$\n",
    "- $\\displaystyle E = \\sqrt{{p_x}^2 + {p_y}^2 + {p_z}^2 + m^2}$\n",
    "\n",
    "<br>"
   ]
  },
  {
   "cell_type": "markdown",
   "id": "baffb69f-a135-40dd-8e92-7886a42418cc",
   "metadata": {
    "tags": []
   },
   "source": [
    "But there's a library for that."
   ]
  },
  {
   "cell_type": "code",
   "execution_count": 6,
   "id": "81e13737-aed3-440d-adea-bc51aacbca6d",
   "metadata": {
    "tags": []
   },
   "outputs": [],
   "source": [
    "import vector"
   ]
  },
  {
   "cell_type": "code",
   "execution_count": 7,
   "id": "ff444eee-3ed5-4253-9b6d-6385c8ebc2ec",
   "metadata": {
    "tags": []
   },
   "outputs": [],
   "source": [
    "def to_vector(particle):\n",
    "    return vector.obj(\n",
    "        pt=particle[\"pt\"],\n",
    "        eta=particle[\"eta\"],\n",
    "        phi=particle[\"phi\"],\n",
    "        mass=particle[\"mass\"],\n",
    "    )"
   ]
  },
  {
   "cell_type": "code",
   "execution_count": 9,
   "id": "4519bd25-0f77-4d5f-b0b8-97d086c8b69d",
   "metadata": {},
   "outputs": [
    {
     "data": {
      "text/plain": [
       "3"
      ]
     },
     "execution_count": 9,
     "metadata": {},
     "output_type": "execute_result"
    }
   ],
   "source": [
    "len(dataset[0][\"muon\"])"
   ]
  },
  {
   "cell_type": "code",
   "execution_count": 8,
   "id": "62f99e18-b63a-420e-aabb-3cfc06a60a3e",
   "metadata": {
    "editable": true,
    "slideshow": {
     "slide_type": ""
    },
    "tags": []
   },
   "outputs": [
    {
     "name": "stdout",
     "output_type": "stream",
     "text": [
      "80.03810173614954 -62.09642131826239 10.888704252275756 -49.310821783934706\n",
      "53.837451985499946 19.5441283607252 -32.729005959017954 -38.01709205284513\n",
      "4.260074277908423 2.05475040026448 3.4885342087314886 -1.3210598131215057\n"
     ]
    }
   ],
   "source": [
    "for particle in dataset[0][\"muon\"]:\n",
    "    v = to_vector(particle)\n",
    "    print(v.E, v.px, v.py, v.pz)"
   ]
  },
  {
   "cell_type": "markdown",
   "id": "8cd0d487-52d6-45c6-883d-3c874ed40c84",
   "metadata": {
    "editable": true,
    "slideshow": {
     "slide_type": ""
    },
    "tags": []
   },
   "source": [
    "### Mini-project: let's make an event display"
   ]
  },
  {
   "cell_type": "markdown",
   "id": "8e6ea7c0-a228-4c1b-bdd1-6f756ebcd0c9",
   "metadata": {
    "tags": []
   },
   "source": [
    "There are lots, and lots, and lots of libraries for visualizing data in Python.\n",
    "\n",
    "Matplotlib is the oldest and most popular."
   ]
  },
  {
   "cell_type": "code",
   "execution_count": 10,
   "id": "aa7ca799-1a68-47cc-bd39-742a8fbb496b",
   "metadata": {
    "editable": true,
    "slideshow": {
     "slide_type": ""
    },
    "tags": []
   },
   "outputs": [],
   "source": [
    "import matplotlib.pyplot as plt  # conventional short name for Matplotlib\n",
    "from mpl_toolkits.mplot3d import Axes3D"
   ]
  },
  {
   "cell_type": "code",
   "execution_count": null,
   "id": "50e08f8e-4900-47fb-baf5-fb01486fda38",
   "metadata": {},
   "outputs": [],
   "source": [
    "# might need to run\n",
    "#!pip install ipympl"
   ]
  },
  {
   "cell_type": "code",
   "execution_count": 22,
   "id": "583ad022-b560-4f68-8046-9f45d48a76bf",
   "metadata": {
    "editable": true,
    "slideshow": {
     "slide_type": ""
    },
    "tags": []
   },
   "outputs": [
    {
     "data": {
      "application/vnd.jupyter.widget-view+json": {
       "model_id": "01bb5ea3e23e477887cfe1d25ab68db8",
       "version_major": 2,
       "version_minor": 0
      },
      "image/png": "[encoded data removed]",
      "text/html": [
       "\n",
       "            <div style=\"display: inline-block;\">\n",
       "                <div class=\"jupyter-widgets widget-label\" style=\"text-align: center;\">\n",
       "                    Figure\n",
       "                </div>\n",
       "                <img src='data:image/png;base64,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' width=640.0/>\n",
       "            </div>\n",
       "        "
      ],
      "text/plain": [
       "Canvas(toolbar=Toolbar(toolitems=[('Home', 'Reset original view', 'home', 'home'), ('Back', 'Back to previous …"
      ]
     },
     "metadata": {},
     "output_type": "display_data"
    }
   ],
   "source": [
    "%matplotlib widget\n",
    "\n",
    "fig = plt.figure()"
   ]
  },
  {
   "cell_type": "code",
   "execution_count": 23,
   "id": "0fb74101-0ca6-4678-aaa2-7e98dce2bd4e",
   "metadata": {
    "tags": []
   },
   "outputs": [],
   "source": [
    "import numpy as np\n",
    "fig.clf()  # clear figure\n",
    "ax = fig.add_subplot(111, projection=\"3d\")\n",
    "\n",
    "# 25 Gaussian-distributed (x, y, z) triplets\n",
    "for x, y, z in np.random.normal(0, 1, (25, 3)):\n",
    "    # make a black line from (0, 0, 0) to (x, y, z)\n",
    "    ax.plot([0, x], [0, y], [0, z], c=\"black\")"
   ]
  },
  {
   "cell_type": "code",
   "execution_count": 24,
   "id": "7cba7e21-0b9f-49bc-b1a7-564297ce6e81",
   "metadata": {
    "tags": []
   },
   "outputs": [],
   "source": [
    "def draw_particle(ax, particle, color):\n",
    "    v = to_vector(particle)\n",
    "    ax.plot([0, v.px], [0, v.py], [0, v.pz], c=color)"
   ]
  },
  {
   "cell_type": "code",
   "execution_count": 25,
   "id": "e482dbda-c31f-405b-bccf-211fbf7a06a2",
   "metadata": {
    "tags": []
   },
   "outputs": [],
   "source": [
    "def draw_event(ax, event):\n",
    "    for particle in event[\"electron\"]:\n",
    "        draw_particle(ax, particle, \"blue\")\n",
    "    for particle in event[\"muon\"]:\n",
    "        draw_particle(ax, particle, \"green\")"
   ]
  },
  {
   "cell_type": "code",
   "execution_count": 26,
   "id": "e434cf5e-44e8-4418-8690-6561ec4f771b",
   "metadata": {
    "tags": []
   },
   "outputs": [],
   "source": [
    "fig.clf()\n",
    "ax = fig.add_subplot(111, projection=\"3d\")\n",
    "\n",
    "draw_event(ax, dataset[0])"
   ]
  },
  {
   "cell_type": "code",
   "execution_count": 27,
   "id": "696722af-fdd5-4b0c-9573-cb00fb9b404d",
   "metadata": {
    "tags": []
   },
   "outputs": [],
   "source": [
    "fig.clf()\n",
    "ax = fig.add_subplot(111, projection=\"3d\")\n",
    "\n",
    "for event in dataset[0:10]:\n",
    "    draw_event(ax, event)"
   ]
  },
  {
   "cell_type": "markdown",
   "id": "fe6f0640-c543-4364-abb0-223ec0c1e08f",
   "metadata": {
    "tags": []
   },
   "source": [
    "Add more to the event display, for context."
   ]
  },
  {
   "cell_type": "code",
   "execution_count": 28,
   "id": "89462b06-f08d-45b6-99f2-08247458a8ce",
   "metadata": {
    "editable": true,
    "slideshow": {
     "slide_type": ""
    },
    "tags": []
   },
   "outputs": [],
   "source": [
    "def beamline(ax):\n",
    "    ax.plot([0, 0], [0, 0], [-100, 100], c=\"black\", ls=\":\")"
   ]
  },
  {
   "cell_type": "code",
   "execution_count": 29,
   "id": "ba014bdd-5de2-469b-91e3-5bccde9970d9",
   "metadata": {
    "editable": true,
    "slideshow": {
     "slide_type": ""
    },
    "tags": []
   },
   "outputs": [],
   "source": [
    "def cms_outline(ax):\n",
    "    z = np.linspace(-100, 100, 50)\n",
    "    theta = np.linspace(0, 2 * np.pi, 12)\n",
    "    theta_grid, z_grid = np.meshgrid(theta, z)\n",
    "    x_grid = 100 * np.cos(theta_grid)\n",
    "    y_grid = 100 * np.sin(theta_grid)\n",
    "    ax.plot_surface(x_grid, y_grid, z_grid, alpha=0.2, color=\"red\")"
   ]
  },
  {
   "cell_type": "code",
   "execution_count": 30,
   "id": "ed46194b-bf00-4f8e-ac01-d769cf930b55",
   "metadata": {
    "tags": []
   },
   "outputs": [
    {
     "data": {
      "text/plain": [
       "Text(0.5, 0, 'z')"
      ]
     },
     "execution_count": 30,
     "metadata": {},
     "output_type": "execute_result"
    }
   ],
   "source": [
    "fig.clf()\n",
    "ax = fig.add_subplot(111, projection=\"3d\")\n",
    "\n",
    "beamline(ax)\n",
    "cms_outline(ax)\n",
    "draw_event(ax, dataset[6417])  # has lots of electrons and muons\n",
    "\n",
    "ax.set_xlim(-100, 100)\n",
    "ax.set_ylim(-100, 100)\n",
    "ax.set_zlim(-100, 100)\n",
    "ax.set_xlabel(\"x\")\n",
    "ax.set_ylabel(\"y\")\n",
    "ax.set_zlabel(\"z\")"
   ]
  },
  {
   "cell_type": "code",
   "execution_count": 31,
   "id": "2729c025-681d-4dc1-b046-0104994d6caa",
   "metadata": {
    "editable": true,
    "slideshow": {
     "slide_type": ""
    },
    "tags": []
   },
   "outputs": [],
   "source": [
    "def draw_position_and_momentum(ax, event, particle, color):\n",
    "    # 1 unit is 1 cm\n",
    "    x0 = event[\"PV\"][\"x\"] - particle[\"dxy\"] * np.cos(particle[\"phi\"])\n",
    "    y0 = event[\"PV\"][\"y\"] - particle[\"dxy\"] * np.sin(particle[\"phi\"])\n",
    "    z0 = event[\"PV\"][\"z\"] - particle[\"dz\"]\n",
    "\n",
    "    # 1 unit is 1 GeV/c\n",
    "    v = to_vector(particle)\n",
    "    ax.plot([x0, x0 + v.px], [y0, y0 + v.py], [z0, z0 + v.pz], c=color)"
   ]
  },
  {
   "cell_type": "code",
   "execution_count": 32,
   "id": "f690b5f8-873a-448f-b93f-048903273dc4",
   "metadata": {
    "tags": []
   },
   "outputs": [
    {
     "data": {
      "text/plain": [
       "Text(0.5, 0, 'z')"
      ]
     },
     "execution_count": 32,
     "metadata": {},
     "output_type": "execute_result"
    }
   ],
   "source": [
    "fig.clf()\n",
    "ax = fig.add_subplot(111, projection=\"3d\")\n",
    "\n",
    "beamline(ax)\n",
    "\n",
    "event = dataset[6417]  # has lots of electrons and muons\n",
    "\n",
    "for particle in event[\"electron\"]:\n",
    "    draw_position_and_momentum(ax, event, particle, \"blue\")\n",
    "for particle in event[\"muon\"]:\n",
    "    draw_position_and_momentum(ax, event, particle, \"green\")\n",
    "\n",
    "ax.set_xlim(-100, 100)\n",
    "ax.set_ylim(-100, 100)\n",
    "ax.set_zlim(-100, 100)\n",
    "ax.set_xlabel(\"x\")\n",
    "ax.set_ylabel(\"y\")\n",
    "ax.set_zlabel(\"z\")"
   ]
  },
  {
   "cell_type": "markdown",
   "id": "42e887f5-c3e2-4c93-bb96-1ad8ef3dbd07",
   "metadata": {
    "editable": true,
    "slideshow": {
     "slide_type": ""
    },
    "tags": []
   },
   "source": [
    "<br><br><br>"
   ]
  },
  {
   "cell_type": "markdown",
   "id": "aafdc03c-7940-4fc8-b5b5-2ad2431dc05f",
   "metadata": {
    "editable": true,
    "slideshow": {
     "slide_type": ""
    },
    "tags": []
   },
   "source": [
    "This is the end of the \"Tour of Python syntax\" section.\n",
    "\n",
    "<br>\n",
    "\n",
    "A few more Python features will be introduced as we go along, but they won't be the main focus anymore."
   ]
  }
 ],
 "metadata": {
  "kernelspec": {
   "display_name": "Python 3 (ipykernel)",
   "language": "python",
   "name": "python3"
  },
  "language_info": {
   "codemirror_mode": {
    "name": "ipython",
    "version": 3
   },
   "file_extension": ".py",
   "mimetype": "text/x-python",
   "name": "python",
   "nbconvert_exporter": "python",
   "pygments_lexer": "ipython3",
   "version": "3.10.18"
  }
 },
 "nbformat": 4,
 "nbformat_minor": 5
}
