{
 "cells": [
  {
   "cell_type": "markdown",
   "id": "a600d7ae-5a10-4cb8-be31-70edc1814d6e",
   "metadata": {
    "editable": true,
    "slideshow": {
     "slide_type": ""
    },
    "tags": []
   },
   "source": [
    "# Lesson 3 project 2: Higgs analysis with combinatorics"
   ]
  },
  {
   "cell_type": "code",
   "execution_count": 1,
   "id": "c11d74a3-29f0-4e22-ae6b-1bcd8da3443b",
   "metadata": {
    "editable": true,
    "slideshow": {
     "slide_type": ""
    },
    "tags": []
   },
   "outputs": [],
   "source": [
    "import matplotlib.pyplot as plt\n",
    "import numpy as np\n",
    "\n",
    "import awkward as ak\n",
    "import vector\n",
    "from hist import Hist\n",
    "vector.register_awkward()"
   ]
  },
  {
   "cell_type": "code",
   "execution_count": 2,
   "id": "13110253-d925-4b52-a494-1cce45b69c85",
   "metadata": {
    "editable": true,
    "slideshow": {
     "slide_type": ""
    },
    "tags": []
   },
   "outputs": [],
   "source": [
    "events = ak.from_parquet(\"../data/SMHiggsToZZTo4L.parquet\")"
   ]
  },
  {
   "cell_type": "markdown",
   "id": "16e474cd-e3c5-4973-8448-56310ca4e813",
   "metadata": {
    "editable": true,
    "slideshow": {
     "slide_type": ""
    },
    "tags": []
   },
   "source": [
    "<br><br><br>"
   ]
  },
  {
   "cell_type": "markdown",
   "id": "9105b67e-2cfd-4d2f-8a65-3f62597813be",
   "metadata": {
    "editable": true,
    "slideshow": {
     "slide_type": ""
    },
    "tags": []
   },
   "source": [
    "## Exclusive and inclusive analysis"
   ]
  },
  {
   "cell_type": "markdown",
   "id": "d6730176-8cda-4999-a389-11b5935d8286",
   "metadata": {
    "editable": true,
    "slideshow": {
     "slide_type": ""
    },
    "tags": []
   },
   "source": [
    "In [lesson-2-arrays/project-2-higgs.ipynb](../lesson-2-arrays/project-2-higgs.ipynb), you did an \"exclusive\" study of Higgs → ZZ → eeμμ. That is to say, the collision events weren't allowed to have anything else in them, such as another Z boson decaying into electrons or muons, a heavy-flavor quark decaying into electrons or muons, or stray particles misreconstructed as though they were electrons or muons. It's giving up on good events, but it's also excluding an unknown fraction of events if we don't have a way to estimate of how often these other phenomena occur in the same event.\n",
    "\n",
    "<br>\n",
    "\n",
    "With Awkward Array's combinatorial functions, we now have a way to do \"inclusive\" analyses."
   ]
  },
  {
   "cell_type": "code",
   "execution_count": 3,
   "id": "8613b5ba-b4b3-4dae-9f95-4cfc2d2dc9a3",
   "metadata": {
    "editable": true,
    "slideshow": {
     "slide_type": ""
    },
    "tags": []
   },
   "outputs": [],
   "source": [
    "electron_pairs = ak.combinations(events.electron, 2)\n",
    "muon_pairs = ak.combinations(events.muon, 2)"
   ]
  },
  {
   "cell_type": "code",
   "execution_count": 4,
   "id": "d953cde6-7a9a-4ee8-b522-3c134798e41d",
   "metadata": {
    "editable": true,
    "slideshow": {
     "slide_type": ""
    },
    "tags": []
   },
   "outputs": [],
   "source": [
    "two_electrons_and_two_muons = ak.cartesian([electron_pairs, muon_pairs])"
   ]
  },
  {
   "cell_type": "markdown",
   "id": "6669dc14-0988-46bb-b1e4-3191ee235cb4",
   "metadata": {
    "editable": true,
    "slideshow": {
     "slide_type": ""
    },
    "tags": []
   },
   "source": [
    "The structure of `two_electrons_and_two_muons` is\n",
    "\n",
    "```\n",
    "array of lists of ((electron1, electron2), (muon1, muon2))\n",
    "```"
   ]
  },
  {
   "cell_type": "code",
   "execution_count": 5,
   "id": "15879074-0042-4183-8c24-9d2bbeb57938",
   "metadata": {
    "editable": true,
    "slideshow": {
     "slide_type": ""
    },
    "tags": []
   },
   "outputs": [
    {
     "name": "stdout",
     "output_type": "stream",
     "text": [
      "299973 * var * (\n",
      "    (\n",
      "        Momentum4D[\n",
      "            pt: float32,\n",
      "            eta: float32,\n",
      "            phi: float32,\n",
      "            mass: float32,\n",
      "            charge: int32,\n",
      "            pfRelIso03_all: float32,\n",
      "            dxy: float32,\n",
      "            dxyErr: float32,\n",
      "            dz: float32,\n",
      "            dzErr: float32\n",
      "        ],\n",
      "        Momentum4D[\n",
      "            pt: float32,\n",
      "            eta: float32,\n",
      "            phi: float32,\n",
      "            mass: float32,\n",
      "            charge: int32,\n",
      "            pfRelIso03_all: float32,\n",
      "            dxy: float32,\n",
      "            dxyErr: float32,\n",
      "            dz: float32,\n",
      "            dzErr: float32\n",
      "        ]\n",
      "    ),\n",
      "    (\n",
      "        Momentum4D[\n",
      "            pt: float32,\n",
      "            eta: float32,\n",
      "            phi: float32,\n",
      "            mass: float32,\n",
      "            charge: int32,\n",
      "            pfRelIso03_all: float32,\n",
      "            pfRelIso04_all: float32,\n",
      "            dxy: float32,\n",
      "            dxyErr: float32,\n",
      "            dz: float32,\n",
      "            dzErr: float32\n",
      "        ],\n",
      "        Momentum4D[\n",
      "            pt: float32,\n",
      "            eta: float32,\n",
      "            phi: float32,\n",
      "            mass: float32,\n",
      "            charge: int32,\n",
      "            pfRelIso03_all: float32,\n",
      "            pfRelIso04_all: float32,\n",
      "            dxy: float32,\n",
      "            dxyErr: float32,\n",
      "            dz: float32,\n",
      "            dzErr: float32\n",
      "        ]\n",
      "    )\n",
      ")\n"
     ]
    }
   ],
   "source": [
    "two_electrons_and_two_muons.type.show()"
   ]
  },
  {
   "cell_type": "markdown",
   "id": "b631c0b4-9ef3-4fa6-8df3-92e0fdd2db24",
   "metadata": {
    "editable": true,
    "slideshow": {
     "slide_type": ""
    },
    "tags": []
   },
   "source": [
    "<br>\n",
    "\n",
    "How many `two_electrons_and_two_muons` (pairs of pairs) does each event have?"
   ]
  },
  {
   "cell_type": "code",
   "execution_count": 6,
   "id": "05cbc1f5-8071-446c-a4cc-32c59d36e1d1",
   "metadata": {
    "editable": true,
    "slideshow": {
     "slide_type": ""
    },
    "tags": []
   },
   "outputs": [
    {
     "data": {
      "text/html": [
       "<pre>[0,\n",
       " 0,\n",
       " 0,\n",
       " 0,\n",
       " 0,\n",
       " 0,\n",
       " 0,\n",
       " 0,\n",
       " 0,\n",
       " 0,\n",
       " ...,\n",
       " 1,\n",
       " 0,\n",
       " 0,\n",
       " 0,\n",
       " 0,\n",
       " 0,\n",
       " 0,\n",
       " 0,\n",
       " 0]\n",
       "--------------------\n",
       "backend: cpu\n",
       "nbytes: 2.4 MB\n",
       "type: 299973 * int64</pre>"
      ],
      "text/plain": [
       "<Array [0, 0, 0, 0, 0, 0, 0, 0, ..., 0, 0, 0, 0, 0, 0, 0] type='299973 * int64'>"
      ]
     },
     "execution_count": 6,
     "metadata": {},
     "output_type": "execute_result"
    }
   ],
   "source": [
    "ak.num(two_electrons_and_two_muons)"
   ]
  },
  {
   "cell_type": "markdown",
   "id": "033957d2-15f6-47ec-a292-34b2c641c5da",
   "metadata": {
    "editable": true,
    "slideshow": {
     "slide_type": ""
    },
    "tags": []
   },
   "source": [
    "<br>\n",
    "\n",
    "How many events have at least one of these combinations? (You could use the [ak.count_nonzero](https://awkward-array.org/doc/main/reference/generated/ak.count_nonzero.html) reducer or the [ak.sum](https://awkward-array.org/doc/main/reference/generated/ak.sum.html) reducer.)"
   ]
  },
  {
   "cell_type": "code",
   "execution_count": null,
   "id": "1ba0d26c-d9a1-44b4-ad92-e4e90ef8c8f9",
   "metadata": {
    "editable": true,
    "slideshow": {
     "slide_type": ""
    },
    "tags": []
   },
   "outputs": [],
   "source": [
    "inclusive_candidates = ak.count_nonzero(ak.num(two_electrons_and_two_muons) > 0)\n",
    "inclusive_candidates"
   ]
  },
  {
   "cell_type": "markdown",
   "id": "9cec80ed-93e3-4854-b9ef-851398cf62c2",
   "metadata": {
    "editable": true,
    "slideshow": {
     "slide_type": ""
    },
    "tags": []
   },
   "source": [
    "<br>\n",
    "\n",
    "How many events have exactly two electrons and exactly two muons?"
   ]
  },
  {
   "cell_type": "code",
   "execution_count": null,
   "id": "28737000-7be6-459d-bc61-bf007d1dcb56",
   "metadata": {
    "editable": true,
    "slideshow": {
     "slide_type": ""
    },
    "tags": []
   },
   "outputs": [],
   "source": [
    "exclusive_candidates = ak.count_nonzero((ak.num(events.electron) == 2) & (ak.num(events.muon) == 2))\n",
    "exclusive_candidates"
   ]
  },
  {
   "cell_type": "markdown",
   "id": "eda084d3-9498-4280-a7f0-d00b298d2cc9",
   "metadata": {
    "editable": true,
    "slideshow": {
     "slide_type": ""
    },
    "tags": []
   },
   "source": [
    "<br>\n",
    "\n",
    "More of the inclusive candidates than the exclusive candidates are not real Higgs → ZZ → eeμμ events (that's what quality cuts are for), but some of the"
   ]
  },
  {
   "cell_type": "code",
   "execution_count": null,
   "id": "cb7a48a5-fa99-4eaa-934c-cd75f068467f",
   "metadata": {
    "editable": true,
    "slideshow": {
     "slide_type": ""
    },
    "tags": []
   },
   "outputs": [],
   "source": [
    "inclusive_candidates / exclusive_candidates"
   ]
  },
  {
   "cell_type": "markdown",
   "id": "08001db1-6422-495c-a7a4-f1f9df978726",
   "metadata": {
    "editable": true,
    "slideshow": {
     "slide_type": ""
    },
    "tags": []
   },
   "source": [
    "times more candidates in the inclusive sample are real events.\n",
    "\n",
    "Not knowing how many would prevent us from being able to measure absolute rates.\n",
    "\n",
    "<br><br><br>"
   ]
  },
  {
   "cell_type": "markdown",
   "id": "6db4b3c3-18ad-450c-811c-5b9bb35b88b8",
   "metadata": {
    "editable": true,
    "slideshow": {
     "slide_type": ""
    },
    "tags": []
   },
   "source": [
    "## Four electron (or four muon) final state"
   ]
  },
  {
   "cell_type": "markdown",
   "id": "5a6618e6-1590-4abe-a7eb-f26c3aa4bc71",
   "metadata": {
    "editable": true,
    "slideshow": {
     "slide_type": ""
    },
    "tags": []
   },
   "source": [
    "We can't construct candidates for Higgs → ZZ → eeee (or μμμμ) as we did with eeμμ because"
   ]
  },
  {
   "cell_type": "code",
   "execution_count": null,
   "id": "08990c4b-95b4-477f-9887-69cd9ad650d9",
   "metadata": {
    "editable": true,
    "slideshow": {
     "slide_type": ""
    },
    "tags": []
   },
   "outputs": [],
   "source": [
    "electron_pairs1 = ak.combinations(events.electron, 2)\n",
    "electron_pairs2 = ak.combinations(events.electron, 2)\n",
    "pairs_of_electron_pairs = ak.cartesian([electron_pairs1, electron_pairs2])"
   ]
  },
  {
   "cell_type": "markdown",
   "id": "8b42c5e9-bcbb-40d7-84e6-d934131b488c",
   "metadata": {
    "editable": true,
    "slideshow": {
     "slide_type": ""
    },
    "tags": []
   },
   "source": [
    "`pairs_of_electron_pairs` has slots for four electrons, but they're filled with electrons that may or may not be distinct."
   ]
  },
  {
   "cell_type": "markdown",
   "id": "a8c4701e-abac-4ac2-ae82-c0c99f0b366f",
   "metadata": {
    "editable": true,
    "slideshow": {
     "slide_type": ""
    },
    "tags": []
   },
   "source": [
    "<br>\n",
    "\n",
    "Here's a more transparent example:"
   ]
  },
  {
   "cell_type": "code",
   "execution_count": null,
   "id": "34db8aa1-2ef4-48cc-864a-25fbda6e6a3d",
   "metadata": {
    "editable": true,
    "slideshow": {
     "slide_type": ""
    },
    "tags": []
   },
   "outputs": [],
   "source": [
    "array = ak.Array([[1, 2, 3, 4, 5]])"
   ]
  },
  {
   "cell_type": "code",
   "execution_count": null,
   "id": "780bfd17-ca3e-4eca-835d-ff033a11e63b",
   "metadata": {
    "editable": true,
    "slideshow": {
     "slide_type": ""
    },
    "tags": []
   },
   "outputs": [],
   "source": [
    "pairs1 = ak.combinations(array, 2)\n",
    "pairs2 = ak.combinations(array, 2)\n",
    "pairs_of_pairs = ak.cartesian([pairs1, pairs2])"
   ]
  },
  {
   "cell_type": "code",
   "execution_count": null,
   "id": "84a27cd7-e1c0-48c9-8fbf-b4767dc80175",
   "metadata": {
    "editable": true,
    "slideshow": {
     "slide_type": ""
    },
    "tags": []
   },
   "outputs": [],
   "source": [
    "pairs_of_pairs.to_list()"
   ]
  },
  {
   "cell_type": "markdown",
   "id": "57349aa8-4ba3-42fc-a3d1-6646c4e7d464",
   "metadata": {
    "editable": true,
    "slideshow": {
     "slide_type": ""
    },
    "tags": []
   },
   "source": [
    "<br>\n",
    "\n",
    "It should never be the case that an electron from the decay of one Z boson is also from the decay of the other Z boson."
   ]
  },
  {
   "cell_type": "markdown",
   "id": "2c39a12c-8ac4-4d2c-9977-54cabb006f6f",
   "metadata": {
    "editable": true,
    "slideshow": {
     "slide_type": ""
    },
    "tags": []
   },
   "source": [
    "<br>\n",
    "\n",
    "Instead, we can use charge (+ or ‒) as we had previously used flavor (electron or muon). To do this, we'd have to put e⁺ into a different collection (array) from e⁻."
   ]
  },
  {
   "cell_type": "code",
   "execution_count": null,
   "id": "16238667-62d9-438a-8819-b786812b1b9f",
   "metadata": {
    "editable": true,
    "slideshow": {
     "slide_type": ""
    },
    "tags": []
   },
   "outputs": [],
   "source": [
    "eplus = events.electron[events.electron.charge > 0]\n",
    "eminus = events.electron[events.electron.charge < 0]"
   ]
  },
  {
   "cell_type": "code",
   "execution_count": null,
   "id": "b37f02c1-12c0-453b-a90a-a8876be292b6",
   "metadata": {
    "editable": true,
    "slideshow": {
     "slide_type": ""
    },
    "tags": []
   },
   "outputs": [],
   "source": [
    "eplusplus = ak.combinations(eplus, 2)\n",
    "eminusminus = ak.combinations(eminus, 2)\n",
    "epairs_of_pairs = ak.cartesian([eplusplus, eminusminus])"
   ]
  },
  {
   "cell_type": "markdown",
   "id": "1b55f340-2bcc-4de9-a3ed-029f70b5d8b4",
   "metadata": {
    "editable": true,
    "slideshow": {
     "slide_type": ""
    },
    "tags": []
   },
   "source": [
    "<br>\n",
    "\n",
    "These combinations were built entirely from distinct objects, so none of the particles within a candidate are duplicates.\n",
    "\n",
    "Demonstrating with a more transparent example:"
   ]
  },
  {
   "cell_type": "code",
   "execution_count": null,
   "id": "cf2aebb1-8658-4b24-a126-976c5093d1f5",
   "metadata": {
    "editable": true,
    "slideshow": {
     "slide_type": ""
    },
    "tags": []
   },
   "outputs": [],
   "source": [
    "array = ak.Array([[1, 2, 3, 4, 5]])"
   ]
  },
  {
   "cell_type": "code",
   "execution_count": null,
   "id": "59375de3-9510-4a39-8ba7-0cc9aaa77ddc",
   "metadata": {
    "editable": true,
    "slideshow": {
     "slide_type": ""
    },
    "tags": []
   },
   "outputs": [],
   "source": [
    "evens = array[array % 2 == 0]\n",
    "odds = array[array % 2 == 1]\n",
    "evens, odds"
   ]
  },
  {
   "cell_type": "code",
   "execution_count": null,
   "id": "66f0fbff-5f0d-4414-8154-3f6c28c6dfa9",
   "metadata": {
    "editable": true,
    "slideshow": {
     "slide_type": ""
    },
    "tags": []
   },
   "outputs": [],
   "source": [
    "pairs1 = ak.combinations(evens, 2)\n",
    "pairs2 = ak.combinations(odds, 2)\n",
    "pairs_of_pairs = ak.cartesian([pairs1, pairs2])"
   ]
  },
  {
   "cell_type": "code",
   "execution_count": null,
   "id": "1159279a-5069-452a-a2a7-6099016083f1",
   "metadata": {
    "editable": true,
    "slideshow": {
     "slide_type": ""
    },
    "tags": []
   },
   "outputs": [],
   "source": [
    "pairs_of_pairs.to_list()"
   ]
  },
  {
   "cell_type": "markdown",
   "id": "ca7a1437-d4fa-4d0b-912c-319d38fa21a3",
   "metadata": {
    "editable": true,
    "slideshow": {
     "slide_type": ""
    },
    "tags": []
   },
   "source": [
    "<br>\n",
    "\n",
    "Instead of using [ak.unzip](https://awkward-array.org/doc/main/reference/generated/ak.unzip.html), we can look at each of the slots individually. Tuples are records with fields named `\"0\"`, `\"1\"`, etc., so we can see that the first two slots always contain e⁺ and the last two slots always contain e⁻."
   ]
  },
  {
   "cell_type": "code",
   "execution_count": null,
   "id": "050a6e50-5f68-4036-8e3d-bfcbc05da695",
   "metadata": {
    "editable": true,
    "slideshow": {
     "slide_type": ""
    },
    "tags": []
   },
   "outputs": [],
   "source": [
    "assert ak.all(epairs_of_pairs[\"0\", \"0\"].charge == 1)  # be sure to use quotation marks\n",
    "assert ak.all(epairs_of_pairs[\"0\", \"1\"].charge == 1)\n",
    "assert ak.all(epairs_of_pairs[\"1\", \"0\"].charge == -1)\n",
    "assert ak.all(epairs_of_pairs[\"1\", \"1\"].charge == -1)"
   ]
  },
  {
   "cell_type": "markdown",
   "id": "c100033c-d7b5-47ec-8c0c-8274da8a09dc",
   "metadata": {
    "editable": true,
    "slideshow": {
     "slide_type": ""
    },
    "tags": []
   },
   "source": [
    "<br>\n",
    "\n",
    "The nested pairs are not the decay products of the two individual Z bosons, since each pair contains like-sign electrons.\n",
    "\n",
    "In each candidate, there are two possible ways to assign electrons to Z bosons (two _interpretations_):\n",
    "\n",
    "  1. $Z_1$'s electrons are in fields `\"0\", \"0\"` and `\"1\", \"0\"`, which would mean that $Z_2$'s electrons are in fields `\"0\", \"1\"` and `\"1\", \"1\"`.\n",
    "  2. $Z_1$'s electrons are in fields `\"0\", \"0\"` and `\"1\", \"1\"`, which would mean that $Z_2$'s electrons are in fields `\"0\", \"1\"` and `\"1\", \"0\"`."
   ]
  },
  {
   "cell_type": "code",
   "execution_count": null,
   "id": "2ee7fcae-ce49-4486-a95a-1c2dfcbbeb38",
   "metadata": {
    "editable": true,
    "slideshow": {
     "slide_type": ""
    },
    "tags": []
   },
   "outputs": [],
   "source": [
    "interpretation1_z1 = epairs_of_pairs[\"0\", \"0\"] + epairs_of_pairs[\"1\", \"0\"]\n",
    "interpretation1_z2 = epairs_of_pairs[\"0\", \"1\"] + epairs_of_pairs[\"1\", \"1\"]\n",
    "\n",
    "interpretation2_z1 = epairs_of_pairs[\"0\", \"0\"] + epairs_of_pairs[\"1\", \"1\"]\n",
    "interpretation2_z2 = epairs_of_pairs[\"0\", \"1\"] + epairs_of_pairs[\"1\", \"0\"]"
   ]
  },
  {
   "attachments": {
    "0c1588af-636e-44ac-9796-20544da0d829.png": {
     "image/png": "[encoded data removed]"
    }
   },
   "cell_type": "markdown",
   "id": "38ea5484-2529-43ea-8a08-0c6a48f0b8a3",
   "metadata": {
    "editable": true,
    "slideshow": {
     "slide_type": ""
    },
    "tags": []
   },
   "source": [
    "<br>\n",
    "\n",
    "For each candidate index `i`, either interpretation 1 is correct or interpretation 2 is correct. Different indexes `i` and `j` can have different interpretations.\n",
    "\n",
    "As a reminder from [lesson-2-arrays/project-2-higgs.ipynb](../lesson-2-arrays/project-2-higgs.ipynb), the masses of Z → ee and Z → μμ looked like\n",
    "\n",
    "![image.png](attachment:0c1588af-636e-44ac-9796-20544da0d829.png)\n",
    "\n",
    "Since we didn't have any ambiguity about which particle to associate with each Z boson, the only thing to be determined was whether the Z → ee was close to being \"on-shell\" (mass close to 91 GeV/c$^2$) or the Z → μμ was close to being \"on-shell.\"\n",
    "\n",
    "<br>\n",
    "\n",
    "The masses of the two e⁺e⁻ pairs in interpretation 1 are:"
   ]
  },
  {
   "cell_type": "code",
   "execution_count": null,
   "id": "e34608ac-40a7-41aa-a23c-2f65c08042d2",
   "metadata": {
    "editable": true,
    "slideshow": {
     "slide_type": ""
    },
    "tags": []
   },
   "outputs": [],
   "source": [
    "Hist.new.Regular(60, 0, 120, name=\"zmass_1\").Regular(60, 0, 120, name=\"zmass_2\").Double().fill(\n",
    "    zmass_1=ak.flatten(interpretation1_z1.mass),\n",
    "    zmass_2=ak.flatten(interpretation1_z2.mass),\n",
    ").plot2d_full();"
   ]
  },
  {
   "cell_type": "markdown",
   "id": "c17d6287-7345-4657-a8cc-6d8279b7e6b1",
   "metadata": {
    "editable": true,
    "slideshow": {
     "slide_type": ""
    },
    "tags": []
   },
   "source": [
    "<br>\n",
    "\n",
    "And the masses of the two e⁺e⁻ pairs in interpretation 2 are:"
   ]
  },
  {
   "cell_type": "code",
   "execution_count": null,
   "id": "8d45fc00-b9fe-4ba0-a735-74fb054f6006",
   "metadata": {
    "editable": true,
    "slideshow": {
     "slide_type": ""
    },
    "tags": []
   },
   "outputs": [],
   "source": [
    "Hist.new.Regular(60, 0, 120, name=\"zmass_1\").Regular(60, 0, 120, name=\"zmass_2\").Double().fill(\n",
    "    zmass_1=ak.flatten(interpretation2_z1.mass),\n",
    "    zmass_2=ak.flatten(interpretation2_z2.mass),\n",
    ").plot2d_full();"
   ]
  },
  {
   "cell_type": "markdown",
   "id": "9b892cfc-0565-458c-ac49-e8cc527a99cf",
   "metadata": {
    "editable": true,
    "slideshow": {
     "slide_type": ""
    },
    "tags": []
   },
   "source": [
    "<br>\n",
    "\n",
    "The \"fog\" of low-mass e⁺e⁻ pairs in each interpretation are from wrong-combinations. Put together two particles that don't come from the same decay and their mass will be a broad distribution of values.\n",
    "\n",
    "The plots above also indicate how we can disambiguate interpretations, candidate-by-candidate. A good interpretation with have at least one Z boson close to its on-shell mass of 91 GeV/c$^2$."
   ]
  },
  {
   "cell_type": "markdown",
   "id": "981c1cbf-cf6d-483c-b70f-d716a6c4c2b9",
   "metadata": {
    "editable": true,
    "slideshow": {
     "slide_type": ""
    },
    "tags": []
   },
   "source": [
    "## Exercise 1"
   ]
  },
  {
   "cell_type": "markdown",
   "id": "a1dcabfa-54a0-4995-8465-3be420f8fa5a",
   "metadata": {
    "editable": true,
    "slideshow": {
     "slide_type": ""
    },
    "tags": []
   },
   "source": [
    "Separately for `interpretation1_*` and for `interpretation2_*`, use [ak.where](https://awkward-array.org/doc/main/reference/generated/ak.where.html) to distinguish the biggest Z mass from the smallest Z mass."
   ]
  },
  {
   "cell_type": "code",
   "execution_count": null,
   "id": "cf2ee899-dc1c-49f4-ac33-fd8835574b57",
   "metadata": {
    "editable": true,
    "slideshow": {
     "slide_type": ""
    },
    "tags": []
   },
   "outputs": [],
   "source": [
    "interpretation1_zsmall = ak.where(...)\n",
    "interpretation1_zbig   = ak.where(...)\n",
    "\n",
    "interpretation2_zsmall = ak.where(...)\n",
    "interpretation2_zbig   = ak.where(...)"
   ]
  },
  {
   "attachments": {
    "ca27d6d1-e95b-4150-95c5-fd4f37ce13f4.png": {
     "image/png": "[encoded data removed]"
    }
   },
   "cell_type": "markdown",
   "id": "3631af9c-ab4f-4e87-bfb7-6a9a270dfe0e",
   "metadata": {
    "editable": true,
    "slideshow": {
     "slide_type": ""
    },
    "tags": []
   },
   "source": [
    "<br>\n",
    "\n",
    "The masses of the lowest and highest e⁺e⁻ pair mass in interpretation 1 should look like:\n",
    "\n",
    "![image.png](attachment:ca27d6d1-e95b-4150-95c5-fd4f37ce13f4.png)"
   ]
  },
  {
   "cell_type": "code",
   "execution_count": null,
   "id": "2c9de261-42ed-4b0e-b054-5800e0e8091d",
   "metadata": {
    "editable": true,
    "slideshow": {
     "slide_type": ""
    },
    "tags": []
   },
   "outputs": [],
   "source": [
    "Hist.new.Regular(60, 0, 120, name=\"zmass_small\").Regular(60, 0, 120, name=\"zmass_big\").Double().fill(\n",
    "    zmass_small=ak.flatten(interpretation1_zsmall.mass),\n",
    "    zmass_big=ak.flatten(interpretation1_zbig.mass),\n",
    ").plot2d_full();"
   ]
  },
  {
   "attachments": {
    "addb0e9b-e0a7-49e2-81a2-15d4a04a8a44.png": {
     "image/png": "[encoded data removed]"
    }
   },
   "cell_type": "markdown",
   "id": "6a2e826f-a0ac-4b34-966a-c91b6009c616",
   "metadata": {
    "editable": true,
    "slideshow": {
     "slide_type": ""
    },
    "tags": []
   },
   "source": [
    "<br>\n",
    "\n",
    "The masses of the lowest and highest e⁺e⁻ pair mass in interpretation 2 should look like:\n",
    "\n",
    "![image.png](attachment:addb0e9b-e0a7-49e2-81a2-15d4a04a8a44.png)"
   ]
  },
  {
   "cell_type": "code",
   "execution_count": null,
   "id": "740e529d-5a63-49cc-aa25-3eab892cc87e",
   "metadata": {
    "editable": true,
    "slideshow": {
     "slide_type": ""
    },
    "tags": []
   },
   "outputs": [],
   "source": [
    "Hist.new.Regular(60, 0, 120, name=\"zmass_small\").Regular(60, 0, 120, name=\"zmass_big\").Double().fill(\n",
    "    zmass_small=ak.flatten(interpretation2_zsmall.mass),\n",
    "    zmass_big=ak.flatten(interpretation2_zbig.mass),\n",
    ").plot2d_full();"
   ]
  },
  {
   "cell_type": "markdown",
   "id": "1c778a55-3410-4840-926b-2a3ff8ac6cf7",
   "metadata": {
    "editable": true,
    "slideshow": {
     "slide_type": ""
    },
    "tags": []
   },
   "source": [
    "## Exercise 2"
   ]
  },
  {
   "cell_type": "markdown",
   "id": "04418dc8-2e53-419c-bb1a-ff7b59ca4bdc",
   "metadata": {
    "editable": true,
    "slideshow": {
     "slide_type": ""
    },
    "tags": []
   },
   "source": [
    "If one interpretation has a highest e⁺e⁻ pair mass close to the on-shell Z mass and the other doesn't, then it is the most likely interpretation.\n",
    "\n",
    "Apply the `(12 < zmass_small) & (zmass_small < 120) & (40 < zmass_big) & (zmass_big < 120)` quality cuts and plot the Higgs mass, separately for each interpretation."
   ]
  },
  {
   "cell_type": "code",
   "execution_count": null,
   "id": "833305fc-fae3-47f5-bb14-c49e1222dcff",
   "metadata": {
    "editable": true,
    "slideshow": {
     "slide_type": ""
    },
    "tags": []
   },
   "outputs": [],
   "source": [
    "interpretation1_quality = (\n",
    "    ...\n",
    ")\n",
    "interpretation2_quality = (\n",
    "    ...\n",
    ")"
   ]
  },
  {
   "attachments": {
    "42da56bf-103f-41e1-86c3-4d5c5d995b64.png": {
     "image/png": "[encoded data removed]"
    }
   },
   "cell_type": "markdown",
   "id": "0f39c48c-2971-4789-9399-5068d376bb8a",
   "metadata": {
    "editable": true,
    "slideshow": {
     "slide_type": ""
    },
    "tags": []
   },
   "source": [
    "The Higgs mass in interpretation 1 should look like:\n",
    "\n",
    "![image.png](attachment:42da56bf-103f-41e1-86c3-4d5c5d995b64.png)"
   ]
  },
  {
   "cell_type": "code",
   "execution_count": null,
   "id": "71334d0b-5969-4008-a1f3-be14332fcfa6",
   "metadata": {
    "editable": true,
    "slideshow": {
     "slide_type": ""
    },
    "tags": []
   },
   "outputs": [],
   "source": [
    "Hist.new.Regular(100, 0, 200, name=\"Higgs mass\").Double().fill(\n",
    "    ak.flatten((interpretation1_zsmall + interpretation1_zbig).mass[interpretation1_quality])\n",
    ").plot();"
   ]
  },
  {
   "attachments": {
    "45957382-c081-4641-8255-aca19a3806f2.png": {
     "image/png": "[encoded data removed]"
    }
   },
   "cell_type": "markdown",
   "id": "5b72b68e-087a-4767-8644-99a3545ad445",
   "metadata": {
    "editable": true,
    "slideshow": {
     "slide_type": ""
    },
    "tags": []
   },
   "source": [
    "And the Higgs mass in interpretation 2 should look like:\n",
    "\n",
    "![image.png](attachment:45957382-c081-4641-8255-aca19a3806f2.png)"
   ]
  },
  {
   "cell_type": "code",
   "execution_count": null,
   "id": "0ed930e9-05cd-40c5-94e8-c1ff3bc34d7e",
   "metadata": {
    "editable": true,
    "slideshow": {
     "slide_type": ""
    },
    "tags": []
   },
   "outputs": [],
   "source": [
    "Hist.new.Regular(100, 0, 200, name=\"Higgs mass\").Double().fill(\n",
    "    ak.flatten((interpretation2_zsmall + interpretation2_zbig).mass[interpretation2_quality])\n",
    ").plot();"
   ]
  },
  {
   "cell_type": "markdown",
   "id": "f58d7252-14f8-4df6-aa62-e29bebb9e7f8",
   "metadata": {
    "editable": true,
    "slideshow": {
     "slide_type": ""
    },
    "tags": []
   },
   "source": [
    "## Exercise 3"
   ]
  },
  {
   "cell_type": "markdown",
   "id": "cb41a54d-8350-465a-8577-414a3325e13a",
   "metadata": {
    "editable": true,
    "slideshow": {
     "slide_type": ""
    },
    "tags": []
   },
   "source": [
    "Just as we used [ak.where](https://awkward-array.org/doc/main/reference/generated/ak.where.html) to select between pair masses to find the lowest and highest per interpretation, we can select between interpretations on a candidate-by-candidate basis."
   ]
  },
  {
   "cell_type": "code",
   "execution_count": null,
   "id": "5745b5e5-672a-4bd1-a62f-0acfa5473c12",
   "metadata": {
    "editable": true,
    "slideshow": {
     "slide_type": ""
    },
    "tags": []
   },
   "outputs": [],
   "source": [
    "from particle import Particle\n",
    "from hepunits import GeV\n",
    "\n",
    "onshell_mass = Particle.from_name(\"Z0\").mass / GeV\n",
    "onshell_mass"
   ]
  },
  {
   "cell_type": "code",
   "execution_count": null,
   "id": "349d622f-9c2c-4da9-9061-9d08f34f7188",
   "metadata": {
    "editable": true,
    "slideshow": {
     "slide_type": ""
    },
    "tags": []
   },
   "outputs": [],
   "source": [
    "interpretation1_is_best = ..."
   ]
  },
  {
   "cell_type": "code",
   "execution_count": null,
   "id": "c4546367-f70d-4855-81a7-e66b4476aa85",
   "metadata": {
    "editable": true,
    "slideshow": {
     "slide_type": ""
    },
    "tags": []
   },
   "outputs": [],
   "source": [
    "best_interpretation_zbig = ak.where(interpretation1_is_best, interpretation1_zbig, interpretation2_zbig)\n",
    "best_interpretation_zsmall = ak.where(interpretation1_is_best, interpretation1_zsmall, interpretation2_zsmall)"
   ]
  },
  {
   "attachments": {
    "d6b45359-3b2a-4a15-af71-f578b00cd975.png": {
     "image/png": "[encoded data removed]"
    }
   },
   "cell_type": "markdown",
   "id": "303e8137-d7c5-4293-b906-afcbb0328700",
   "metadata": {
    "editable": true,
    "slideshow": {
     "slide_type": ""
    },
    "tags": []
   },
   "source": [
    "We are left with only one plot of the two Z bosons, in the best interpretation per candidate.\n",
    "\n",
    "The pair of Z masses in this best interpretation should look like:\n",
    "\n",
    "![image.png](attachment:d6b45359-3b2a-4a15-af71-f578b00cd975.png)"
   ]
  },
  {
   "cell_type": "code",
   "execution_count": null,
   "id": "492dac90-1589-47b5-ac0c-43122ca4165f",
   "metadata": {
    "editable": true,
    "slideshow": {
     "slide_type": ""
    },
    "tags": []
   },
   "outputs": [],
   "source": [
    "Hist.new.Regular(60, 0, 120, name=\"zmass_small\").Regular(60, 0, 120, name=\"zmass_big\").Double().fill(\n",
    "    zmass_small=ak.flatten(best_interpretation_zsmall.mass),\n",
    "    zmass_big=ak.flatten(best_interpretation_zbig.mass),\n",
    ").plot2d_full();"
   ]
  },
  {
   "cell_type": "markdown",
   "id": "05ace5f0-ba55-41ed-b4b3-3cf75e4cdc0e",
   "metadata": {},
   "source": [
    "## Exercise 4"
   ]
  },
  {
   "cell_type": "markdown",
   "id": "ba715e83-0d24-4ea7-96a0-13a025c61af3",
   "metadata": {},
   "source": [
    "Even though we have selected the best Z-to-electron-pair matching for each group of 4 electrons, we still have multiple (or zero) groups of 4 electrons per event."
   ]
  },
  {
   "cell_type": "code",
   "execution_count": null,
   "id": "352421d0-97ed-432c-9181-9f1b87cd7318",
   "metadata": {},
   "outputs": [],
   "source": [
    "best_interpretation_zbig"
   ]
  },
  {
   "cell_type": "markdown",
   "id": "de724d3e-85ed-4fac-871d-58ecca1b79fb",
   "metadata": {},
   "source": [
    "Use the same criteria, namely that the Higgs candidate in which the highest-mass Z boson is nearly on shell, to find the best Higgs candidate per event. The [ak.min](https://awkward-array.org/doc/main/reference/generated/ak.min.html) function with `axis=-1` replaces lists with their minimum value and empty lists with `None`:"
   ]
  },
  {
   "cell_type": "code",
   "execution_count": null,
   "id": "9059bf4a-16f9-4e7d-b1a4-b0f9966c8f91",
   "metadata": {},
   "outputs": [],
   "source": [
    "array_of_int = ak.Array([\n",
    "    [3, 1, 5, 2],\n",
    "    [2, 2, -4, 1],\n",
    "    [],\n",
    "    [3, 7, 4]\n",
    "])\n",
    "ak.min(array_of_int, axis=-1)"
   ]
  },
  {
   "cell_type": "markdown",
   "id": "74c0ae97-7712-4aa0-929b-cfe2ffe5dfc5",
   "metadata": {},
   "source": [
    "And the [ak.argmin](https://awkward-array.org/doc/main/reference/generated/ak.argmin.html) function with `axis=-1` and `keepdims=True` can be used to produce indexes to slice one array by the minimum of another."
   ]
  },
  {
   "cell_type": "code",
   "execution_count": null,
   "id": "c26be19d-24d1-4b7a-b1d8-c7497f30491c",
   "metadata": {},
   "outputs": [],
   "source": [
    "array_of_str = ak.Array([\n",
    "    [\"three\", \"one\", \"five\", \"two\"],\n",
    "    [\"two\", \"two\", \"minus four\", \"one\"],\n",
    "    [],\n",
    "    [\"three\", \"seven\", \"four\"]\n",
    "])"
   ]
  },
  {
   "cell_type": "code",
   "execution_count": null,
   "id": "d562881a-379e-4def-aac5-61af0ae394af",
   "metadata": {},
   "outputs": [],
   "source": [
    "indexes = ak.argmin(array_of_int, axis=-1, keepdims=True)\n",
    "indexes"
   ]
  },
  {
   "cell_type": "code",
   "execution_count": null,
   "id": "3b24ad4f-77fa-4ec4-b089-acb90beea5ec",
   "metadata": {},
   "outputs": [],
   "source": [
    "array_of_str[indexes]"
   ]
  },
  {
   "cell_type": "code",
   "execution_count": null,
   "id": "647ea0c9-8654-4803-ad61-3e60104e5bc0",
   "metadata": {},
   "outputs": [],
   "source": [
    "array_of_str[indexes][:, 0]"
   ]
  },
  {
   "cell_type": "markdown",
   "id": "e2a870ba-f44e-4323-aad2-219703159ac1",
   "metadata": {},
   "source": [
    "Use this technique to find the Higgs candidate in each event whose highest-mass Z boson has the closest to an on shell mass."
   ]
  },
  {
   "cell_type": "code",
   "execution_count": null,
   "id": "fc11c29e-afa6-4a20-9c64-6f297f885e1c",
   "metadata": {},
   "outputs": [],
   "source": [
    "best_higgs_candidate_index = ak.argmin(..., axis=-1, keepdims=True)\n",
    "best_higgs_candidate_index"
   ]
  },
  {
   "cell_type": "code",
   "execution_count": null,
   "id": "a3beac37-9d8f-4bb2-8569-62640dab9a66",
   "metadata": {},
   "outputs": [],
   "source": [
    "best_higgs_zbig = best_interpretation_zbig[best_higgs_candidate_index][:, 0]\n",
    "best_higgs_zsmall = best_interpretation_zsmall[best_higgs_candidate_index][:, 0]\n",
    "\n",
    "best_higgs_zbig"
   ]
  },
  {
   "attachments": {},
   "cell_type": "markdown",
   "id": "de0436f9-097d-48f4-b3f2-f14304e7daf0",
   "metadata": {
    "editable": true,
    "slideshow": {
     "slide_type": ""
    },
    "tags": []
   },
   "source": [
    "We are left with only one pair of Z bosons per event. ([ak.flatten](https://awkward-array.org/doc/main/reference/generated/ak.flatten.html) with `axis=0` removes the `None` values.)"
   ]
  },
  {
   "cell_type": "code",
   "execution_count": null,
   "id": "75494d4b-4b5c-4c0c-b75d-0f9384d31ac2",
   "metadata": {
    "editable": true,
    "slideshow": {
     "slide_type": ""
    },
    "tags": []
   },
   "outputs": [],
   "source": [
    "Hist.new.Regular(60, 0, 120, name=\"zmass_small\").Regular(60, 0, 120, name=\"zmass_big\").Double().fill(\n",
    "    zmass_small=ak.flatten(best_higgs_zsmall.mass, axis=0),\n",
    "    zmass_big=ak.flatten(best_higgs_zbig.mass, axis=0),\n",
    ").plot2d_full();"
   ]
  },
  {
   "attachments": {
    "7dc7706c-4410-44ff-9322-2e4bfb8e861f.png": {
     "image/png": "[encoded data removed]"
    }
   },
   "cell_type": "markdown",
   "id": "2d98d316-23fa-4809-a77f-528ab709b000",
   "metadata": {},
   "source": [
    "It should look like:\n",
    "\n",
    "![image.png](attachment:7dc7706c-4410-44ff-9322-2e4bfb8e861f.png)"
   ]
  },
  {
   "cell_type": "markdown",
   "id": "45ad2ee7-acb4-4cc8-b305-d39b52a4a8b2",
   "metadata": {
    "editable": true,
    "slideshow": {
     "slide_type": ""
    },
    "tags": []
   },
   "source": [
    "## Exercise 5"
   ]
  },
  {
   "attachments": {},
   "cell_type": "markdown",
   "id": "460796e4-998c-45da-bf19-14ce6f18de3e",
   "metadata": {
    "editable": true,
    "slideshow": {
     "slide_type": ""
    },
    "tags": []
   },
   "source": [
    "Now apply the quality cut to the best interpretation to get a final Higgs mass plot. Ignore the `None` values; they pass through this cut."
   ]
  },
  {
   "cell_type": "code",
   "execution_count": null,
   "id": "40a6e324-58a5-49da-9cbf-fec2355dfba1",
   "metadata": {
    "editable": true,
    "slideshow": {
     "slide_type": ""
    },
    "tags": []
   },
   "outputs": [],
   "source": [
    "best_interpretation_quality = (\n",
    "    ...\n",
    ")"
   ]
  },
  {
   "attachments": {
    "8d1b428a-9399-480f-adf2-2a60ba4f2e0c.png": {
     "image/png": "[encoded data removed]"
    }
   },
   "cell_type": "markdown",
   "id": "e952a88a-3d74-4343-b6b2-f407991261b5",
   "metadata": {
    "editable": true,
    "slideshow": {
     "slide_type": ""
    },
    "tags": []
   },
   "source": [
    "It should look like:\n",
    "\n",
    "![image.png](attachment:8d1b428a-9399-480f-adf2-2a60ba4f2e0c.png)"
   ]
  },
  {
   "cell_type": "code",
   "execution_count": null,
   "id": "bb62c9c1-70c2-4f23-a0f9-c3caae9362fd",
   "metadata": {
    "editable": true,
    "slideshow": {
     "slide_type": ""
    },
    "tags": []
   },
   "outputs": [],
   "source": [
    "Hist.new.Regular(100, 0, 200, name=\"Higgs mass\").Double().fill(\n",
    "    ak.flatten((best_higgs_zsmall + best_higgs_zbig).mass[best_interpretation_quality], axis=0)\n",
    ").plot();"
   ]
  }
 ],
 "metadata": {
  "kernelspec": {
   "display_name": "Python 3 (ipykernel)",
   "language": "python",
   "name": "python3"
  },
  "language_info": {
   "codemirror_mode": {
    "name": "ipython",
    "version": 3
   },
   "file_extension": ".py",
   "mimetype": "text/x-python",
   "name": "python",
   "nbconvert_exporter": "python",
   "pygments_lexer": "ipython3",
   "version": "3.10.18"
  }
 },
 "nbformat": 4,
 "nbformat_minor": 5
}
